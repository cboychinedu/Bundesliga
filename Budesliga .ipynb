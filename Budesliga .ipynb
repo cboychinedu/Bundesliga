{
 "cells": [
  {
   "cell_type": "code",
   "execution_count": 1,
   "metadata": {},
   "outputs": [],
   "source": [
    "#!/usr/bin/env python3 "
   ]
  },
  {
   "cell_type": "code",
   "execution_count": 25,
   "metadata": {
    "scrolled": true
   },
   "outputs": [],
   "source": [
    "# Importing the necessary packages \n",
    "import numpy as np \n",
    "import tensorflow as tf \n",
    "import pandas as pd \n",
    "import matplotlib.pyplot as plt \n",
    "import seaborn as sns "
   ]
  },
  {
   "cell_type": "code",
   "execution_count": 26,
   "metadata": {},
   "outputs": [
    {
     "data": {
      "text/html": [
       "<div>\n",
       "<style scoped>\n",
       "    .dataframe tbody tr th:only-of-type {\n",
       "        vertical-align: middle;\n",
       "    }\n",
       "\n",
       "    .dataframe tbody tr th {\n",
       "        vertical-align: top;\n",
       "    }\n",
       "\n",
       "    .dataframe thead th {\n",
       "        text-align: right;\n",
       "    }\n",
       "</style>\n",
       "<table border=\"1\" class=\"dataframe\">\n",
       "  <thead>\n",
       "    <tr style=\"text-align: right;\">\n",
       "      <th></th>\n",
       "      <th>Div</th>\n",
       "      <th>Date</th>\n",
       "      <th>HomeTeam</th>\n",
       "      <th>AwayTeam</th>\n",
       "      <th>FTHG</th>\n",
       "      <th>FTAG</th>\n",
       "      <th>FTR</th>\n",
       "      <th>HTHG</th>\n",
       "      <th>HTAG</th>\n",
       "      <th>HTR</th>\n",
       "      <th>Season</th>\n",
       "    </tr>\n",
       "  </thead>\n",
       "  <tbody>\n",
       "    <tr>\n",
       "      <th>0</th>\n",
       "      <td>D1</td>\n",
       "      <td>7/8/1993</td>\n",
       "      <td>Bayern Munich</td>\n",
       "      <td>Freiburg</td>\n",
       "      <td>3</td>\n",
       "      <td>1</td>\n",
       "      <td>H</td>\n",
       "      <td>NaN</td>\n",
       "      <td>NaN</td>\n",
       "      <td>NaN</td>\n",
       "      <td>1993-94</td>\n",
       "    </tr>\n",
       "    <tr>\n",
       "      <th>1</th>\n",
       "      <td>D1</td>\n",
       "      <td>7/8/1993</td>\n",
       "      <td>Dortmund</td>\n",
       "      <td>Karlsruhe</td>\n",
       "      <td>2</td>\n",
       "      <td>1</td>\n",
       "      <td>H</td>\n",
       "      <td>NaN</td>\n",
       "      <td>NaN</td>\n",
       "      <td>NaN</td>\n",
       "      <td>1993-94</td>\n",
       "    </tr>\n",
       "    <tr>\n",
       "      <th>2</th>\n",
       "      <td>D1</td>\n",
       "      <td>7/8/1993</td>\n",
       "      <td>Duisburg</td>\n",
       "      <td>Leverkusen</td>\n",
       "      <td>2</td>\n",
       "      <td>2</td>\n",
       "      <td>D</td>\n",
       "      <td>NaN</td>\n",
       "      <td>NaN</td>\n",
       "      <td>NaN</td>\n",
       "      <td>1993-94</td>\n",
       "    </tr>\n",
       "    <tr>\n",
       "      <th>3</th>\n",
       "      <td>D1</td>\n",
       "      <td>7/8/1993</td>\n",
       "      <td>FC Koln</td>\n",
       "      <td>Kaiserslautern</td>\n",
       "      <td>0</td>\n",
       "      <td>2</td>\n",
       "      <td>A</td>\n",
       "      <td>NaN</td>\n",
       "      <td>NaN</td>\n",
       "      <td>NaN</td>\n",
       "      <td>1993-94</td>\n",
       "    </tr>\n",
       "    <tr>\n",
       "      <th>4</th>\n",
       "      <td>D1</td>\n",
       "      <td>7/8/1993</td>\n",
       "      <td>Hamburg</td>\n",
       "      <td>Nurnberg</td>\n",
       "      <td>5</td>\n",
       "      <td>2</td>\n",
       "      <td>H</td>\n",
       "      <td>NaN</td>\n",
       "      <td>NaN</td>\n",
       "      <td>NaN</td>\n",
       "      <td>1993-94</td>\n",
       "    </tr>\n",
       "  </tbody>\n",
       "</table>\n",
       "</div>"
      ],
      "text/plain": [
       "  Div      Date       HomeTeam        AwayTeam  FTHG  FTAG FTR  HTHG  HTAG  \\\n",
       "0  D1  7/8/1993  Bayern Munich        Freiburg     3     1   H   NaN   NaN   \n",
       "1  D1  7/8/1993       Dortmund       Karlsruhe     2     1   H   NaN   NaN   \n",
       "2  D1  7/8/1993       Duisburg      Leverkusen     2     2   D   NaN   NaN   \n",
       "3  D1  7/8/1993        FC Koln  Kaiserslautern     0     2   A   NaN   NaN   \n",
       "4  D1  7/8/1993        Hamburg        Nurnberg     5     2   H   NaN   NaN   \n",
       "\n",
       "   HTR   Season  \n",
       "0  NaN  1993-94  \n",
       "1  NaN  1993-94  \n",
       "2  NaN  1993-94  \n",
       "3  NaN  1993-94  \n",
       "4  NaN  1993-94  "
      ]
     },
     "execution_count": 26,
     "metadata": {},
     "output_type": "execute_result"
    }
   ],
   "source": [
    "# Reading in the dataset into memory\n",
    "dataset = pd.read_csv('Bundesliga_Results.csv')\n",
    "\n",
    "# viewing the dataset \n",
    "dataset.head() "
   ]
  },
  {
   "cell_type": "code",
   "execution_count": 27,
   "metadata": {},
   "outputs": [
    {
     "data": {
      "text/html": [
       "<div>\n",
       "<style scoped>\n",
       "    .dataframe tbody tr th:only-of-type {\n",
       "        vertical-align: middle;\n",
       "    }\n",
       "\n",
       "    .dataframe tbody tr th {\n",
       "        vertical-align: top;\n",
       "    }\n",
       "\n",
       "    .dataframe thead th {\n",
       "        text-align: right;\n",
       "    }\n",
       "</style>\n",
       "<table border=\"1\" class=\"dataframe\">\n",
       "  <thead>\n",
       "    <tr style=\"text-align: right;\">\n",
       "      <th></th>\n",
       "      <th>Div</th>\n",
       "      <th>Date</th>\n",
       "      <th>HomeTeam</th>\n",
       "      <th>AwayTeam</th>\n",
       "      <th>FTHG</th>\n",
       "      <th>FTAG</th>\n",
       "      <th>FTR</th>\n",
       "      <th>Season</th>\n",
       "    </tr>\n",
       "  </thead>\n",
       "  <tbody>\n",
       "    <tr>\n",
       "      <th>0</th>\n",
       "      <td>D1</td>\n",
       "      <td>7/8/1993</td>\n",
       "      <td>Bayern Munich</td>\n",
       "      <td>Freiburg</td>\n",
       "      <td>3</td>\n",
       "      <td>1</td>\n",
       "      <td>H</td>\n",
       "      <td>1993-94</td>\n",
       "    </tr>\n",
       "    <tr>\n",
       "      <th>1</th>\n",
       "      <td>D1</td>\n",
       "      <td>7/8/1993</td>\n",
       "      <td>Dortmund</td>\n",
       "      <td>Karlsruhe</td>\n",
       "      <td>2</td>\n",
       "      <td>1</td>\n",
       "      <td>H</td>\n",
       "      <td>1993-94</td>\n",
       "    </tr>\n",
       "    <tr>\n",
       "      <th>2</th>\n",
       "      <td>D1</td>\n",
       "      <td>7/8/1993</td>\n",
       "      <td>Duisburg</td>\n",
       "      <td>Leverkusen</td>\n",
       "      <td>2</td>\n",
       "      <td>2</td>\n",
       "      <td>D</td>\n",
       "      <td>1993-94</td>\n",
       "    </tr>\n",
       "    <tr>\n",
       "      <th>3</th>\n",
       "      <td>D1</td>\n",
       "      <td>7/8/1993</td>\n",
       "      <td>FC Koln</td>\n",
       "      <td>Kaiserslautern</td>\n",
       "      <td>0</td>\n",
       "      <td>2</td>\n",
       "      <td>A</td>\n",
       "      <td>1993-94</td>\n",
       "    </tr>\n",
       "    <tr>\n",
       "      <th>4</th>\n",
       "      <td>D1</td>\n",
       "      <td>7/8/1993</td>\n",
       "      <td>Hamburg</td>\n",
       "      <td>Nurnberg</td>\n",
       "      <td>5</td>\n",
       "      <td>2</td>\n",
       "      <td>H</td>\n",
       "      <td>1993-94</td>\n",
       "    </tr>\n",
       "  </tbody>\n",
       "</table>\n",
       "</div>"
      ],
      "text/plain": [
       "  Div      Date       HomeTeam        AwayTeam  FTHG  FTAG FTR   Season\n",
       "0  D1  7/8/1993  Bayern Munich        Freiburg     3     1   H  1993-94\n",
       "1  D1  7/8/1993       Dortmund       Karlsruhe     2     1   H  1993-94\n",
       "2  D1  7/8/1993       Duisburg      Leverkusen     2     2   D  1993-94\n",
       "3  D1  7/8/1993        FC Koln  Kaiserslautern     0     2   A  1993-94\n",
       "4  D1  7/8/1993        Hamburg        Nurnberg     5     2   H  1993-94"
      ]
     },
     "execution_count": 27,
     "metadata": {},
     "output_type": "execute_result"
    }
   ],
   "source": [
    "# Removing the columns with NaN values \n",
    "dataset = dataset.drop(['HTHG', 'HTAG', 'HTR'], axis=1)\n",
    "\n",
    "# Viewing the cleaned dataset \n",
    "dataset.head() "
   ]
  },
  {
   "cell_type": "code",
   "execution_count": null,
   "metadata": {},
   "outputs": [],
   "source": []
  },
  {
   "cell_type": "code",
   "execution_count": 28,
   "metadata": {},
   "outputs": [],
   "source": [
    "# converting the date and season into date time formats \n",
    "# Changing the datetime for the Actual Date the mactches was played\n",
    "time = pd.to_datetime(dataset['Date'], dayfirst=True, errors='coerce')\n",
    "dataset['year'] = time.dt.year \n",
    "dataset['month'] = time.dt.month \n",
    "dataset['day'] = time.dt.day \n",
    "# Dropping the data column \n",
    "dataset = dataset.drop(['Date'], axis=1)\n",
    "\n",
    "# Converting the Season data time formats \n",
    "# changing the datetime format for the actual seasons the match was played \n",
    "dataset['S_year1'] = dataset['Season'].str[0:4].astype('int')\n",
    "dataset['S_year2'] = dataset['Season'].str[5:].astype('int')\n",
    "# Dropping the data column \n",
    "dataset = dataset.drop(['Season'], axis=1)"
   ]
  },
  {
   "cell_type": "code",
   "execution_count": 29,
   "metadata": {},
   "outputs": [
    {
     "data": {
      "text/html": [
       "<div>\n",
       "<style scoped>\n",
       "    .dataframe tbody tr th:only-of-type {\n",
       "        vertical-align: middle;\n",
       "    }\n",
       "\n",
       "    .dataframe tbody tr th {\n",
       "        vertical-align: top;\n",
       "    }\n",
       "\n",
       "    .dataframe thead th {\n",
       "        text-align: right;\n",
       "    }\n",
       "</style>\n",
       "<table border=\"1\" class=\"dataframe\">\n",
       "  <thead>\n",
       "    <tr style=\"text-align: right;\">\n",
       "      <th></th>\n",
       "      <th>S_year1</th>\n",
       "      <th>S_year2</th>\n",
       "      <th>year</th>\n",
       "      <th>month</th>\n",
       "      <th>day</th>\n",
       "      <th>HomeTeam</th>\n",
       "      <th>AwayTeam</th>\n",
       "      <th>FTHG</th>\n",
       "      <th>FTAG</th>\n",
       "      <th>FTR</th>\n",
       "    </tr>\n",
       "  </thead>\n",
       "  <tbody>\n",
       "    <tr>\n",
       "      <th>0</th>\n",
       "      <td>1993</td>\n",
       "      <td>94</td>\n",
       "      <td>1993</td>\n",
       "      <td>8</td>\n",
       "      <td>7</td>\n",
       "      <td>Bayern Munich</td>\n",
       "      <td>Freiburg</td>\n",
       "      <td>3</td>\n",
       "      <td>1</td>\n",
       "      <td>H</td>\n",
       "    </tr>\n",
       "    <tr>\n",
       "      <th>1</th>\n",
       "      <td>1993</td>\n",
       "      <td>94</td>\n",
       "      <td>1993</td>\n",
       "      <td>8</td>\n",
       "      <td>7</td>\n",
       "      <td>Dortmund</td>\n",
       "      <td>Karlsruhe</td>\n",
       "      <td>2</td>\n",
       "      <td>1</td>\n",
       "      <td>H</td>\n",
       "    </tr>\n",
       "    <tr>\n",
       "      <th>2</th>\n",
       "      <td>1993</td>\n",
       "      <td>94</td>\n",
       "      <td>1993</td>\n",
       "      <td>8</td>\n",
       "      <td>7</td>\n",
       "      <td>Duisburg</td>\n",
       "      <td>Leverkusen</td>\n",
       "      <td>2</td>\n",
       "      <td>2</td>\n",
       "      <td>D</td>\n",
       "    </tr>\n",
       "    <tr>\n",
       "      <th>3</th>\n",
       "      <td>1993</td>\n",
       "      <td>94</td>\n",
       "      <td>1993</td>\n",
       "      <td>8</td>\n",
       "      <td>7</td>\n",
       "      <td>FC Koln</td>\n",
       "      <td>Kaiserslautern</td>\n",
       "      <td>0</td>\n",
       "      <td>2</td>\n",
       "      <td>A</td>\n",
       "    </tr>\n",
       "    <tr>\n",
       "      <th>4</th>\n",
       "      <td>1993</td>\n",
       "      <td>94</td>\n",
       "      <td>1993</td>\n",
       "      <td>8</td>\n",
       "      <td>7</td>\n",
       "      <td>Hamburg</td>\n",
       "      <td>Nurnberg</td>\n",
       "      <td>5</td>\n",
       "      <td>2</td>\n",
       "      <td>H</td>\n",
       "    </tr>\n",
       "  </tbody>\n",
       "</table>\n",
       "</div>"
      ],
      "text/plain": [
       "   S_year1  S_year2  year  month  day       HomeTeam        AwayTeam  FTHG  \\\n",
       "0     1993       94  1993      8    7  Bayern Munich        Freiburg     3   \n",
       "1     1993       94  1993      8    7       Dortmund       Karlsruhe     2   \n",
       "2     1993       94  1993      8    7       Duisburg      Leverkusen     2   \n",
       "3     1993       94  1993      8    7        FC Koln  Kaiserslautern     0   \n",
       "4     1993       94  1993      8    7        Hamburg        Nurnberg     5   \n",
       "\n",
       "   FTAG FTR  \n",
       "0     1   H  \n",
       "1     1   H  \n",
       "2     2   D  \n",
       "3     2   A  \n",
       "4     2   H  "
      ]
     },
     "execution_count": 29,
     "metadata": {},
     "output_type": "execute_result"
    }
   ],
   "source": [
    "# Creating a new dataframe from the existing loaded dataset. \n",
    "df = dataset[['S_year1', 'S_year2', 'year', 'month', 'day', 'HomeTeam', 'AwayTeam', 'FTHG', 'FTAG', 'FTR']]\n",
    "df.head()"
   ]
  },
  {
   "cell_type": "code",
   "execution_count": 30,
   "metadata": {},
   "outputs": [
    {
     "data": {
      "text/plain": [
       "array(['D1'], dtype=object)"
      ]
     },
     "execution_count": 30,
     "metadata": {},
     "output_type": "execute_result"
    }
   ],
   "source": [
    "# Displaying the number of division in the League  \n",
    "dataset['Div'].unique() "
   ]
  },
  {
   "cell_type": "code",
   "execution_count": 31,
   "metadata": {},
   "outputs": [
    {
     "data": {
      "text/plain": [
       "array(['Bayern Munich', 'Dortmund', 'Duisburg', 'FC Koln', 'Hamburg',\n",
       "       'Leipzig', \"M'Gladbach\", 'Wattenscheid', 'Werder Bremen',\n",
       "       'Dresden', 'Ein Frankfurt', 'Freiburg', 'Kaiserslautern',\n",
       "       'Karlsruhe', 'Leverkusen', 'Nurnberg', 'Schalke 04', 'Stuttgart',\n",
       "       'Uerdingen', 'Bochum', 'Munich 1860', \"M'gladbach\",\n",
       "       'Hansa Rostock', 'St Pauli', 'Dusseldorf', 'Bielefeld', 'Hertha',\n",
       "       'Wolfsburg', 'Ulm', 'Unterhaching', 'Cottbus', 'Hannover', 'Mainz',\n",
       "       'Aachen', 'Hoffenheim', 'Augsburg', 'Greuther Furth',\n",
       "       'Fortuna Dusseldorf', 'Braunschweig', 'Paderborn', 'Darmstadt',\n",
       "       'Ingolstadt', 'RB Leipzig'], dtype=object)"
      ]
     },
     "execution_count": 31,
     "metadata": {},
     "output_type": "execute_result"
    }
   ],
   "source": [
    "# Showing the unique values of all the clubs in total. \n",
    "df['HomeTeam'].unique()"
   ]
  },
  {
   "cell_type": "code",
   "execution_count": 32,
   "metadata": {},
   "outputs": [
    {
     "name": "stderr",
     "output_type": "stream",
     "text": [
      "/home/mbonu/anaconda3/lib/python3.6/site-packages/ipykernel_launcher.py:48: SettingWithCopyWarning: \n",
      "A value is trying to be set on a copy of a slice from a DataFrame.\n",
      "Try using .loc[row_indexer,col_indexer] = value instead\n",
      "\n",
      "See the caveats in the documentation: http://pandas.pydata.org/pandas-docs/stable/indexing.html#indexing-view-versus-copy\n",
      "/home/mbonu/anaconda3/lib/python3.6/site-packages/ipykernel_launcher.py:49: SettingWithCopyWarning: \n",
      "A value is trying to be set on a copy of a slice from a DataFrame.\n",
      "Try using .loc[row_indexer,col_indexer] = value instead\n",
      "\n",
      "See the caveats in the documentation: http://pandas.pydata.org/pandas-docs/stable/indexing.html#indexing-view-versus-copy\n"
     ]
    }
   ],
   "source": [
    "# Creating a dictionary to store the numerical values for the respective clubs \n",
    "C = {\n",
    "    \"Bayern Munich\": 1, \n",
    "    \"Dortmund\": 2, \n",
    "    \"Duisburg\": 3, \n",
    "    \"FC Koln\": 4, \n",
    "    \"Hamburg\": 5, \n",
    "    \"Leipzig\": 6,\n",
    "    \"M'Gladbach\": 7,\n",
    "    \"Wattenscheid\": 8, \n",
    "    \"Werder Bremen\": 9, \n",
    "    \"Dresden\": 10, \n",
    "    \"Ein Frankfurt\": 11,            \n",
    "    \"Freiburg\": 12, \n",
    "    \"Kaiserslautern\": 13, \n",
    "    \"Karlsruhe\": 14, \n",
    "    \"Leverkusen\": 15, \n",
    "    \"Nurnberg\": 16, \n",
    "    \"Schalke 04\": 17, \n",
    "    \"Stuttgart\": 18, \n",
    "    \"Uerdingen\": 19, \n",
    "    \"Bochum\": 20, \n",
    "    \"Munich 1860\": 21, \n",
    "    \"M'gladbach\": 22, \n",
    "    \"Hansa Rostock\": 23, \n",
    "    \"St Pauli\": 24, \n",
    "    \"Dusseldorf\": 25, \n",
    "    \"Bielefeld\": 26, \n",
    "    \"Hertha\": 27, \n",
    "    \"Wolfsburg\": 28, \n",
    "    \"Ulm\": 29, \n",
    "    \"Unterhaching\": 30, \n",
    "    \"Cottbus\": 31, \n",
    "    \"Hannover\": 32, \n",
    "    \"Mainz\": 33, \n",
    "    \"Aachen\": 34, \n",
    "    \"Hoffenheim\": 35, \n",
    "    \"Augsburg\": 36, \n",
    "    \"Greuther Furth\": 37, \n",
    "    \"Fortuna Dusseldorf\": 38, \n",
    "    \"Braunschweig\": 39, \n",
    "    \"Paderborn\": 40, \n",
    "    \"Darmstadt\": 41   \n",
    "}\n",
    "\n",
    "# mapping the values of the respective dictionary and its corresponding values \n",
    "# to the created cleaned dataframe \n",
    "df['HomeTeam'] = df['HomeTeam'].map(C)\n",
    "df['AwayTeam'] = df['AwayTeam'].map(C)"
   ]
  },
  {
   "cell_type": "code",
   "execution_count": 33,
   "metadata": {},
   "outputs": [
    {
     "data": {
      "text/plain": [
       "array(['H', 'D', 'A'], dtype=object)"
      ]
     },
     "execution_count": 33,
     "metadata": {},
     "output_type": "execute_result"
    }
   ],
   "source": [
    "# Showing the Values for the full time results \n",
    "# H = Home Team won = 1\n",
    "# D = The match was a Draw = 3\n",
    "# A = Away Team Won = 2 \n",
    "df['FTR'].unique() "
   ]
  },
  {
   "cell_type": "code",
   "execution_count": 34,
   "metadata": {},
   "outputs": [
    {
     "name": "stderr",
     "output_type": "stream",
     "text": [
      "/home/mbonu/anaconda3/lib/python3.6/site-packages/ipykernel_launcher.py:8: SettingWithCopyWarning: \n",
      "A value is trying to be set on a copy of a slice from a DataFrame.\n",
      "Try using .loc[row_indexer,col_indexer] = value instead\n",
      "\n",
      "See the caveats in the documentation: http://pandas.pydata.org/pandas-docs/stable/indexing.html#indexing-view-versus-copy\n",
      "  \n"
     ]
    }
   ],
   "source": [
    "# Creating a dictionary to convert the values in the FTR column into numerical values \n",
    "FT = {}\n",
    "FT['H'] = 1  # Home team won for values on one \n",
    "FT['A'] = 2  # Away team won for values of two \n",
    "FT['D'] = 3  # the match ended a Draw for values of three. \n",
    "\n",
    "# Mapping the values to the FTR column \n",
    "df['FTR'] = df['FTR'].map(FT)\n"
   ]
  },
  {
   "cell_type": "code",
   "execution_count": 35,
   "metadata": {},
   "outputs": [
    {
     "data": {
      "text/html": [
       "<div>\n",
       "<style scoped>\n",
       "    .dataframe tbody tr th:only-of-type {\n",
       "        vertical-align: middle;\n",
       "    }\n",
       "\n",
       "    .dataframe tbody tr th {\n",
       "        vertical-align: top;\n",
       "    }\n",
       "\n",
       "    .dataframe thead th {\n",
       "        text-align: right;\n",
       "    }\n",
       "</style>\n",
       "<table border=\"1\" class=\"dataframe\">\n",
       "  <thead>\n",
       "    <tr style=\"text-align: right;\">\n",
       "      <th></th>\n",
       "      <th>S_year1</th>\n",
       "      <th>S_year2</th>\n",
       "      <th>year</th>\n",
       "      <th>month</th>\n",
       "      <th>day</th>\n",
       "      <th>HomeTeam</th>\n",
       "      <th>AwayTeam</th>\n",
       "      <th>FTHG</th>\n",
       "      <th>FTAG</th>\n",
       "      <th>FTR</th>\n",
       "    </tr>\n",
       "  </thead>\n",
       "  <tbody>\n",
       "    <tr>\n",
       "      <th>0</th>\n",
       "      <td>1993</td>\n",
       "      <td>94</td>\n",
       "      <td>1993</td>\n",
       "      <td>8</td>\n",
       "      <td>7</td>\n",
       "      <td>1.0</td>\n",
       "      <td>12.0</td>\n",
       "      <td>3</td>\n",
       "      <td>1</td>\n",
       "      <td>1</td>\n",
       "    </tr>\n",
       "    <tr>\n",
       "      <th>1</th>\n",
       "      <td>1993</td>\n",
       "      <td>94</td>\n",
       "      <td>1993</td>\n",
       "      <td>8</td>\n",
       "      <td>7</td>\n",
       "      <td>2.0</td>\n",
       "      <td>14.0</td>\n",
       "      <td>2</td>\n",
       "      <td>1</td>\n",
       "      <td>1</td>\n",
       "    </tr>\n",
       "    <tr>\n",
       "      <th>2</th>\n",
       "      <td>1993</td>\n",
       "      <td>94</td>\n",
       "      <td>1993</td>\n",
       "      <td>8</td>\n",
       "      <td>7</td>\n",
       "      <td>3.0</td>\n",
       "      <td>15.0</td>\n",
       "      <td>2</td>\n",
       "      <td>2</td>\n",
       "      <td>3</td>\n",
       "    </tr>\n",
       "    <tr>\n",
       "      <th>3</th>\n",
       "      <td>1993</td>\n",
       "      <td>94</td>\n",
       "      <td>1993</td>\n",
       "      <td>8</td>\n",
       "      <td>7</td>\n",
       "      <td>4.0</td>\n",
       "      <td>13.0</td>\n",
       "      <td>0</td>\n",
       "      <td>2</td>\n",
       "      <td>2</td>\n",
       "    </tr>\n",
       "    <tr>\n",
       "      <th>4</th>\n",
       "      <td>1993</td>\n",
       "      <td>94</td>\n",
       "      <td>1993</td>\n",
       "      <td>8</td>\n",
       "      <td>7</td>\n",
       "      <td>5.0</td>\n",
       "      <td>16.0</td>\n",
       "      <td>5</td>\n",
       "      <td>2</td>\n",
       "      <td>1</td>\n",
       "    </tr>\n",
       "  </tbody>\n",
       "</table>\n",
       "</div>"
      ],
      "text/plain": [
       "   S_year1  S_year2  year  month  day  HomeTeam  AwayTeam  FTHG  FTAG  FTR\n",
       "0     1993       94  1993      8    7       1.0      12.0     3     1    1\n",
       "1     1993       94  1993      8    7       2.0      14.0     2     1    1\n",
       "2     1993       94  1993      8    7       3.0      15.0     2     2    3\n",
       "3     1993       94  1993      8    7       4.0      13.0     0     2    2\n",
       "4     1993       94  1993      8    7       5.0      16.0     5     2    1"
      ]
     },
     "execution_count": 35,
     "metadata": {},
     "output_type": "execute_result"
    }
   ],
   "source": [
    "# Viewing the filtered dataset that has only numerical values. \n",
    "# Cleaning the dataset and removing Nan Values\n",
    "df = df[~df.isin([np.nan, np.inf, -np.inf]).any(1)]\n",
    "df.fillna(df.mean(), inplace=True)\n",
    "df.head() "
   ]
  },
  {
   "cell_type": "code",
   "execution_count": 36,
   "metadata": {},
   "outputs": [
    {
     "data": {
      "text/plain": [
       "S_year1       int64\n",
       "S_year2       int64\n",
       "year          int64\n",
       "month         int64\n",
       "day           int64\n",
       "HomeTeam    float64\n",
       "AwayTeam    float64\n",
       "FTHG          int64\n",
       "FTAG          int64\n",
       "FTR           int64\n",
       "dtype: object"
      ]
     },
     "execution_count": 36,
     "metadata": {},
     "output_type": "execute_result"
    }
   ],
   "source": [
    "## Visualizing the Graph \n",
    "df.dtypes"
   ]
  },
  {
   "cell_type": "code",
   "execution_count": 37,
   "metadata": {},
   "outputs": [
    {
     "data": {
      "text/plain": [
       "Div         1964\n",
       "HomeTeam    1964\n",
       "AwayTeam    1964\n",
       "FTHG        1964\n",
       "FTAG        1964\n",
       "FTR         1964\n",
       "year        1964\n",
       "month       1964\n",
       "day         1964\n",
       "S_year1     1964\n",
       "S_year2     1964\n",
       "dtype: int64"
      ]
     },
     "execution_count": 37,
     "metadata": {},
     "output_type": "execute_result"
    }
   ],
   "source": [
    "# Getting the count for the Draw \n",
    "dataset.loc[dataset['FTR'] == 'D'].count()"
   ]
  },
  {
   "cell_type": "code",
   "execution_count": 62,
   "metadata": {},
   "outputs": [
    {
     "data": {
      "image/png": "[encoded data removed]",
      "text/plain": [
       "<Figure size 432x288 with 1 Axes>"
      ]
     },
     "metadata": {},
     "output_type": "display_data"
    }
   ],
   "source": [
    "# Plotting a graph of the total counts for the Potential winnings.\n",
    "degree_count = dataset['FTR'].value_counts() \n",
    "degree_count.plot(kind='bar')\n",
    "plt.xlabel('Winnings')\n",
    "plt.ylabel('Counts')\n",
    "plt.show() "
   ]
  },
  {
   "cell_type": "code",
   "execution_count": 39,
   "metadata": {},
   "outputs": [
    {
     "name": "stdout",
     "output_type": "stream",
     "text": [
      "3587 winnings for the HOME TEAM\n"
     ]
    }
   ],
   "source": [
    "# Getting the numbers of winnings for the HOME TEAM \n",
    "hometeam_count = dataset[dataset['FTR'] == 'H'].count() \n",
    "print(hometeam_count['FTR'], 'winnings for the HOME TEAM')"
   ]
  },
  {
   "cell_type": "code",
   "execution_count": 40,
   "metadata": {},
   "outputs": [
    {
     "name": "stdout",
     "output_type": "stream",
     "text": [
      "2099 winnings for the AWAY TEAM\n"
     ]
    }
   ],
   "source": [
    "# Getting the number of winnings for the AWAY TEAM \n",
    "awayteam_count = dataset[dataset['FTR'] == 'A'].count() \n",
    "print(awayteam_count['FTR'], 'winnings for the AWAY TEAM')"
   ]
  },
  {
   "cell_type": "markdown",
   "metadata": {},
   "source": [
    "## EDA for HOME TEAM"
   ]
  },
  {
   "cell_type": "code",
   "execution_count": 61,
   "metadata": {},
   "outputs": [
    {
     "data": {
      "image/png": "[encoded data removed]",
      "text/plain": [
       "<Figure size 432x288 with 1 Axes>"
      ]
     },
     "metadata": {},
     "output_type": "display_data"
    }
   ],
   "source": [
    "# f, axis = plt.subplots(1, 3)\n",
    "# Plotting a count plot of graph of winnings for the HOME TEAM only\n",
    "# Against the month inwhich they won the most.\n",
    "hometeam_count = dataset[dataset['FTR'] == 'H']\n",
    "sns.countplot(x='month', hue='FTR', data=hometeam_count)\n",
    "plt.grid(True)\n",
    "plt.show() "
   ]
  },
  {
   "cell_type": "code",
   "execution_count": 42,
   "metadata": {},
   "outputs": [
    {
     "data": {
      "image/png": "[encoded data removed]",
      "text/plain": [
       "<Figure size 432x288 with 1 Axes>"
      ]
     },
     "metadata": {},
     "output_type": "display_data"
    }
   ],
   "source": [
    "# Plotting a count plot of graph of winnings for the HOME TEAM only\n",
    "# Against the month inwhich they won the most.\n",
    "# the month being the 4th month and is filtered off before plotting. \n",
    "month_4th_count = hometeam_count[hometeam_count['month'] == 4]\n",
    "ax = sns.countplot(x='day', hue='FTR', data=month_4th_count)\n",
    "plt.grid(True)\n",
    "plt.show() "
   ]
  },
  {
   "cell_type": "code",
   "execution_count": 43,
   "metadata": {},
   "outputs": [
    {
     "data": {
      "image/png": "[encoded data removed]",
      "text/plain": [
       "<Figure size 432x288 with 1 Axes>"
      ]
     },
     "metadata": {},
     "output_type": "display_data"
    }
   ],
   "source": [
    "# showing a count plot of home team wining in the month of April (4th month)\n",
    "# ax = sns.countplot(x='FTR', hue='HomeTeam', data=hometeam_count)\n",
    "# ax.legend(loc='center left', bbox_to_anchor=(1, 0.5))\n",
    "# plt.show() \n",
    "month_4th_win = month_4th_count['HomeTeam'].value_counts()\n",
    "month_4th_win.plot(kind='bar')\n",
    "plt.xlabel('Winnings')\n",
    "plt.ylabel('Counts')\n",
    "plt.show() "
   ]
  },
  {
   "cell_type": "code",
   "execution_count": 44,
   "metadata": {},
   "outputs": [
    {
     "data": {
      "image/png": "[encoded data removed]",
      "text/plain": [
       "<Figure size 432x288 with 1 Axes>"
      ]
     },
     "metadata": {},
     "output_type": "display_data"
    }
   ],
   "source": [
    "# showing the plot of the home team winings in the month of November and \n",
    "# the most respective dates that are more ranpant for the home team to win \n",
    "# in the month of November. \n",
    "hometeam_monthcount = hometeam_count[hometeam_count['month'] == 11]\n",
    "ax = sns.countplot(x='day', hue='FTR', data=hometeam_monthcount)\n",
    "plt.grid(True)\n",
    "plt.show() "
   ]
  },
  {
   "cell_type": "code",
   "execution_count": 45,
   "metadata": {},
   "outputs": [
    {
     "data": {
      "image/png": "[encoded data removed]",
      "text/plain": [
       "<Figure size 432x288 with 1 Axes>"
      ]
     },
     "metadata": {},
     "output_type": "display_data"
    }
   ],
   "source": [
    "# winnings for the 11th month \n",
    "month11th_win = hometeam_monthcount['HomeTeam'].value_counts() \n",
    "month11th_win.plot(kind='bar')\n",
    "plt.xlabel('Winnings')\n",
    "plt.ylabel('Counts')\n",
    "plt.show() "
   ]
  },
  {
   "cell_type": "markdown",
   "metadata": {},
   "source": [
    "## EDA for AWAY TEAM"
   ]
  },
  {
   "cell_type": "code",
   "execution_count": 46,
   "metadata": {},
   "outputs": [
    {
     "data": {
      "image/png": "[encoded data removed]",
      "text/plain": [
       "<Figure size 432x288 with 1 Axes>"
      ]
     },
     "metadata": {},
     "output_type": "display_data"
    }
   ],
   "source": [
    "# Plotting a count plot of the fraph of winnings for the AWAY TEAM only \n",
    "# Against the month in which they won the most. \n",
    "awayteam_count = dataset[dataset['FTR'] == 'A']\n",
    "ax = sns.countplot(x='month', hue='FTR', data=awayteam_count)\n",
    "plt.grid(True)\n",
    "plt.show() "
   ]
  },
  {
   "cell_type": "code",
   "execution_count": 47,
   "metadata": {},
   "outputs": [
    {
     "data": {
      "image/png": "[encoded data removed]",
      "text/plain": [
       "<Figure size 432x288 with 1 Axes>"
      ]
     },
     "metadata": {},
     "output_type": "display_data"
    }
   ],
   "source": [
    "#\n",
    "month_4th_count = awayteam_count[awayteam_count['month'] == 4]\n",
    "ax = sns.countplot(x='day', hue='FTR', data=month_4th_count)\n",
    "plt.grid(True)\n",
    "plt.show() "
   ]
  },
  {
   "cell_type": "code",
   "execution_count": 48,
   "metadata": {},
   "outputs": [
    {
     "data": {
      "image/png": "[encoded data removed]",
      "text/plain": [
       "<Figure size 432x288 with 1 Axes>"
      ]
     },
     "metadata": {},
     "output_type": "display_data"
    }
   ],
   "source": [
    "# Plotting a count plot of the graph of Draws for the team \n",
    "draw_count = dataset[dataset['FTR'] == 'D']\n",
    "ax = sns.countplot(x='day', hue='FTR', data=draw_count)\n",
    "plt.grid(True) \n",
    "plt.show() "
   ]
  },
  {
   "cell_type": "code",
   "execution_count": 49,
   "metadata": {},
   "outputs": [
    {
     "data": {
      "text/html": [
       "<div>\n",
       "<style scoped>\n",
       "    .dataframe tbody tr th:only-of-type {\n",
       "        vertical-align: middle;\n",
       "    }\n",
       "\n",
       "    .dataframe tbody tr th {\n",
       "        vertical-align: top;\n",
       "    }\n",
       "\n",
       "    .dataframe thead th {\n",
       "        text-align: right;\n",
       "    }\n",
       "</style>\n",
       "<table border=\"1\" class=\"dataframe\">\n",
       "  <thead>\n",
       "    <tr style=\"text-align: right;\">\n",
       "      <th></th>\n",
       "      <th>S_year1</th>\n",
       "      <th>S_year2</th>\n",
       "      <th>year</th>\n",
       "      <th>month</th>\n",
       "      <th>day</th>\n",
       "      <th>HomeTeam</th>\n",
       "      <th>AwayTeam</th>\n",
       "      <th>FTHG</th>\n",
       "      <th>FTAG</th>\n",
       "      <th>FTR</th>\n",
       "    </tr>\n",
       "  </thead>\n",
       "  <tbody>\n",
       "    <tr>\n",
       "      <th>0</th>\n",
       "      <td>1993</td>\n",
       "      <td>94</td>\n",
       "      <td>1993</td>\n",
       "      <td>8</td>\n",
       "      <td>7</td>\n",
       "      <td>1.0</td>\n",
       "      <td>12.0</td>\n",
       "      <td>3</td>\n",
       "      <td>1</td>\n",
       "      <td>1</td>\n",
       "    </tr>\n",
       "    <tr>\n",
       "      <th>1</th>\n",
       "      <td>1993</td>\n",
       "      <td>94</td>\n",
       "      <td>1993</td>\n",
       "      <td>8</td>\n",
       "      <td>7</td>\n",
       "      <td>2.0</td>\n",
       "      <td>14.0</td>\n",
       "      <td>2</td>\n",
       "      <td>1</td>\n",
       "      <td>1</td>\n",
       "    </tr>\n",
       "    <tr>\n",
       "      <th>2</th>\n",
       "      <td>1993</td>\n",
       "      <td>94</td>\n",
       "      <td>1993</td>\n",
       "      <td>8</td>\n",
       "      <td>7</td>\n",
       "      <td>3.0</td>\n",
       "      <td>15.0</td>\n",
       "      <td>2</td>\n",
       "      <td>2</td>\n",
       "      <td>3</td>\n",
       "    </tr>\n",
       "    <tr>\n",
       "      <th>3</th>\n",
       "      <td>1993</td>\n",
       "      <td>94</td>\n",
       "      <td>1993</td>\n",
       "      <td>8</td>\n",
       "      <td>7</td>\n",
       "      <td>4.0</td>\n",
       "      <td>13.0</td>\n",
       "      <td>0</td>\n",
       "      <td>2</td>\n",
       "      <td>2</td>\n",
       "    </tr>\n",
       "    <tr>\n",
       "      <th>4</th>\n",
       "      <td>1993</td>\n",
       "      <td>94</td>\n",
       "      <td>1993</td>\n",
       "      <td>8</td>\n",
       "      <td>7</td>\n",
       "      <td>5.0</td>\n",
       "      <td>16.0</td>\n",
       "      <td>5</td>\n",
       "      <td>2</td>\n",
       "      <td>1</td>\n",
       "    </tr>\n",
       "  </tbody>\n",
       "</table>\n",
       "</div>"
      ],
      "text/plain": [
       "   S_year1  S_year2  year  month  day  HomeTeam  AwayTeam  FTHG  FTAG  FTR\n",
       "0     1993       94  1993      8    7       1.0      12.0     3     1    1\n",
       "1     1993       94  1993      8    7       2.0      14.0     2     1    1\n",
       "2     1993       94  1993      8    7       3.0      15.0     2     2    3\n",
       "3     1993       94  1993      8    7       4.0      13.0     0     2    2\n",
       "4     1993       94  1993      8    7       5.0      16.0     5     2    1"
      ]
     },
     "execution_count": 49,
     "metadata": {},
     "output_type": "execute_result"
    }
   ],
   "source": [
    "df.head() "
   ]
  },
  {
   "cell_type": "code",
   "execution_count": 22,
   "metadata": {},
   "outputs": [],
   "source": [
    "#### Building A Machine Learning Model To Fit The Data #### \n",
    "## 1). Logistic Regression"
   ]
  },
  {
   "cell_type": "code",
   "execution_count": 85,
   "metadata": {},
   "outputs": [],
   "source": [
    "# Importing the necessary packages needed for Building the model \n",
    "from keras.models import Sequential \n",
    "from keras.layers import Dense \n",
    "from keras.optimizers import SGD \n",
    "from sklearn.model_selection import train_test_split\n",
    "from sklearn.linear_model import LogisticRegression \n",
    "from sklearn.linear_model import LogisticRegressionCV\n",
    "from sklearn.metrics import roc_auc_score, roc_curve "
   ]
  },
  {
   "cell_type": "code",
   "execution_count": 86,
   "metadata": {},
   "outputs": [],
   "source": [
    "# saving the dataset into input(x) feature and output feature(y)\n",
    "X = df.iloc[:, 0:7].values  \n",
    "y = df.iloc[:, 9].values"
   ]
  },
  {
   "cell_type": "code",
   "execution_count": 87,
   "metadata": {},
   "outputs": [],
   "source": [
    "# Splitting the dataset into train and test set split \n",
    "X_train, X_test, y_train, y_test = train_test_split(X, \n",
    "                                                   y, \n",
    "                                                   test_size = 0.2, \n",
    "                                                   random_state = 50)"
   ]
  },
  {
   "cell_type": "code",
   "execution_count": 88,
   "metadata": {},
   "outputs": [],
   "source": [
    "# Finding the Feature that is Soley Dependent on the Full Time Results\n",
    "# using chi squared mean "
   ]
  },
  {
   "cell_type": "code",
   "execution_count": 89,
   "metadata": {},
   "outputs": [
    {
     "data": {
      "image/png": "[encoded data removed]",
      "text/plain": [
       "<Figure size 432x288 with 1 Axes>"
      ]
     },
     "metadata": {},
     "output_type": "display_data"
    }
   ],
   "source": [
    "from sklearn.feature_selection import chi2 \n",
    "from sklearn.feature_selection import SelectKBest\n",
    "\n",
    "# \n",
    "fs = SelectKBest(score_func=chi2, k='all')\n",
    "fs.fit(X_train, y_train)\n",
    "plt.bar([i for i in range(len(fs.scores_))], fs.scores_)\n",
    "plt.show() "
   ]
  },
  {
   "cell_type": "code",
   "execution_count": 90,
   "metadata": {},
   "outputs": [],
   "source": [
    "## Using Mutual Information Feature Selection to Check the Column that is Solely \n",
    "# Dependent on the Full Time Results "
   ]
  },
  {
   "cell_type": "code",
   "execution_count": 91,
   "metadata": {},
   "outputs": [
    {
     "data": {
      "image/png": "[encoded data removed]",
      "text/plain": [
       "<Figure size 432x288 with 1 Axes>"
      ]
     },
     "metadata": {},
     "output_type": "display_data"
    }
   ],
   "source": [
    "from sklearn.feature_selection import mutual_info_classif \n",
    "from sklearn.feature_selection import SelectKBest\n",
    "\n",
    "# \n",
    "ms = SelectKBest(score_func=mutual_info_classif, k='all')\n",
    "ms.fit(X_train, y_train)\n",
    "plt.bar([i for i in range(len(ms.scores_))], ms.scores_, color='brown')\n",
    "plt.show() "
   ]
  },
  {
   "cell_type": "code",
   "execution_count": 92,
   "metadata": {},
   "outputs": [
    {
     "name": "stdout",
     "output_type": "stream",
     "text": [
      "(6012, 7)\n",
      "(6012,)\n"
     ]
    }
   ],
   "source": [
    "# Displaying the shape of the Training data \n",
    "print(X_train.shape)\n",
    "print(y_train.shape)"
   ]
  },
  {
   "cell_type": "code",
   "execution_count": 93,
   "metadata": {},
   "outputs": [
    {
     "name": "stdout",
     "output_type": "stream",
     "text": [
      "(1504, 7)\n",
      "(1504,)\n"
     ]
    }
   ],
   "source": [
    "# Displaying the shape of the test data \n",
    "print(X_test.shape)\n",
    "print(y_test.shape)"
   ]
  },
  {
   "cell_type": "code",
   "execution_count": 94,
   "metadata": {},
   "outputs": [
    {
     "data": {
      "text/plain": [
       "LogisticRegression(C=1.0, class_weight=None, dual=False, fit_intercept=True,\n",
       "                   intercept_scaling=1, l1_ratio=None, max_iter=100,\n",
       "                   multi_class='auto', n_jobs=None, penalty='l2',\n",
       "                   random_state=None, solver='lbfgs', tol=0.0001, verbose=0,\n",
       "                   warm_start=False)"
      ]
     },
     "execution_count": 94,
     "metadata": {},
     "output_type": "execute_result"
    }
   ],
   "source": [
    "# Building The Model using Linear Regression \n",
    "model = LogisticRegression()\n",
    "model.fit(X_train, y_train)"
   ]
  },
  {
   "cell_type": "code",
   "execution_count": 95,
   "metadata": {},
   "outputs": [
    {
     "data": {
      "text/plain": [
       "0.4714095744680851"
      ]
     },
     "execution_count": 95,
     "metadata": {},
     "output_type": "execute_result"
    }
   ],
   "source": [
    "# Training the model \n",
    "model.score(X_test, y_test)"
   ]
  },
  {
   "cell_type": "code",
   "execution_count": 96,
   "metadata": {},
   "outputs": [
    {
     "data": {
      "text/plain": [
       "array([1])"
      ]
     },
     "execution_count": 96,
     "metadata": {},
     "output_type": "execute_result"
    }
   ],
   "source": [
    "# To predict, the inputs must be given \n",
    "# [S_year1, S_year2, year, month, day, HomeTeam, AwayTeam]\n",
    "new_value = [\n",
    "    2017, 18, 2018, 5, \n",
    "    12, 17.0, 11.0\n",
    "]\n",
    "\n",
    "# reshaping the new input data so that the model could predict it \n",
    "new_value = np.array(new_value).reshape(1, -1)\n",
    "\n",
    "# predicting the value for full time results \n",
    "model.predict(new_value)"
   ]
  },
  {
   "cell_type": "code",
   "execution_count": 100,
   "metadata": {},
   "outputs": [],
   "source": [
    "# # generate a no skill prediction (majority class)\n",
    "# ns_probs = [0 for _ in range(len(y_test))]\n",
    "\n",
    "# # predict probabilities\n",
    "# lr_probs = model.predict_proba(X_test)\n",
    "# # keep probabilities for the positive outcome only\n",
    "# lr_probs = lr_probs[:, 1]\n",
    "# # calculate scores\n",
    "# ns_auc = roc_auc_score(y_test, ns_probs)\n",
    "# lr_auc = roc_auc_score(y_test, lr_probs)\n",
    "# # summarize scores\n",
    "# print('No Skill: ROC AUC=%.3f' % (ns_auc))\n",
    "# print('Logistic: ROC AUC=%.3f' % (lr_auc))\n",
    "# # calculate roc curves\n",
    "# ns_fpr, ns_tpr, _ = roc_curve(y_test, ns_probs)\n",
    "# lr_fpr, lr_tpr, _ = roc_curve(y_test, lr_probs)\n",
    "# # plot the roc curve for the model\n",
    "# pyplot.plot(ns_fpr, ns_tpr, linestyle='--', label='No Skill')\n",
    "# pyplot.plot(lr_fpr, lr_tpr, marker='.', label='Logistic')\n",
    "# # axis labels\n",
    "# pyplot.xlabel('False Positive Rate')\n",
    "# pyplot.ylabel('True Positive Rate')\n",
    "# # show the legend\n",
    "# pyplot.legend()\n",
    "# # show the plot\n",
    "# pyplot.show()"
   ]
  },
  {
   "cell_type": "code",
   "execution_count": 167,
   "metadata": {},
   "outputs": [
    {
     "data": {
      "text/html": [
       "<div>\n",
       "<style scoped>\n",
       "    .dataframe tbody tr th:only-of-type {\n",
       "        vertical-align: middle;\n",
       "    }\n",
       "\n",
       "    .dataframe tbody tr th {\n",
       "        vertical-align: top;\n",
       "    }\n",
       "\n",
       "    .dataframe thead th {\n",
       "        text-align: right;\n",
       "    }\n",
       "</style>\n",
       "<table border=\"1\" class=\"dataframe\">\n",
       "  <thead>\n",
       "    <tr style=\"text-align: right;\">\n",
       "      <th></th>\n",
       "      <th>S_year1</th>\n",
       "      <th>S_year2</th>\n",
       "      <th>year</th>\n",
       "      <th>month</th>\n",
       "      <th>day</th>\n",
       "      <th>HomeTeam</th>\n",
       "      <th>AwayTeam</th>\n",
       "      <th>FTHG</th>\n",
       "      <th>FTAG</th>\n",
       "      <th>FTR</th>\n",
       "    </tr>\n",
       "  </thead>\n",
       "  <tbody>\n",
       "    <tr>\n",
       "      <th>7646</th>\n",
       "      <td>2017</td>\n",
       "      <td>18</td>\n",
       "      <td>2018</td>\n",
       "      <td>5</td>\n",
       "      <td>12</td>\n",
       "      <td>15.0</td>\n",
       "      <td>32.0</td>\n",
       "      <td>3</td>\n",
       "      <td>2</td>\n",
       "      <td>1</td>\n",
       "    </tr>\n",
       "    <tr>\n",
       "      <th>7647</th>\n",
       "      <td>2017</td>\n",
       "      <td>18</td>\n",
       "      <td>2018</td>\n",
       "      <td>5</td>\n",
       "      <td>12</td>\n",
       "      <td>33.0</td>\n",
       "      <td>9.0</td>\n",
       "      <td>1</td>\n",
       "      <td>2</td>\n",
       "      <td>2</td>\n",
       "    </tr>\n",
       "    <tr>\n",
       "      <th>7648</th>\n",
       "      <td>2017</td>\n",
       "      <td>18</td>\n",
       "      <td>2018</td>\n",
       "      <td>5</td>\n",
       "      <td>12</td>\n",
       "      <td>17.0</td>\n",
       "      <td>11.0</td>\n",
       "      <td>1</td>\n",
       "      <td>0</td>\n",
       "      <td>1</td>\n",
       "    </tr>\n",
       "    <tr>\n",
       "      <th>7649</th>\n",
       "      <td>2017</td>\n",
       "      <td>18</td>\n",
       "      <td>2018</td>\n",
       "      <td>5</td>\n",
       "      <td>12</td>\n",
       "      <td>28.0</td>\n",
       "      <td>4.0</td>\n",
       "      <td>4</td>\n",
       "      <td>1</td>\n",
       "      <td>1</td>\n",
       "    </tr>\n",
       "  </tbody>\n",
       "</table>\n",
       "</div>"
      ],
      "text/plain": [
       "      S_year1  S_year2  year  month  day  HomeTeam  AwayTeam  FTHG  FTAG  FTR\n",
       "7646     2017       18  2018      5   12      15.0      32.0     3     2    1\n",
       "7647     2017       18  2018      5   12      33.0       9.0     1     2    2\n",
       "7648     2017       18  2018      5   12      17.0      11.0     1     0    1\n",
       "7649     2017       18  2018      5   12      28.0       4.0     4     1    1"
      ]
     },
     "execution_count": 167,
     "metadata": {},
     "output_type": "execute_result"
    }
   ],
   "source": [
    "df.tail(4)"
   ]
  },
  {
   "cell_type": "code",
   "execution_count": 168,
   "metadata": {},
   "outputs": [],
   "source": [
    "# Building our deep neural network model \n",
    "from keras.models import Sequential \n",
    "from keras.layers import Dense, LSTM\n",
    "from keras.optimizers import SGD"
   ]
  },
  {
   "cell_type": "code",
   "execution_count": 184,
   "metadata": {},
   "outputs": [],
   "source": [
    "# building the model using keras\n",
    "# create and fit the LSTM network\n",
    "model = Sequential()\n",
    "model.add(Dense(120, input_dim=X_train.shape[1],\n",
    "                kernel_initializer='glorot_uniform', bias_initializer='zeros', \n",
    "                activation='tanh')\n",
    ")\n",
    "model.add(Dense(50, input_dim=X_train.shape[1], kernel_initializer='glorot_uniform',\n",
    "               bias_initializer='zeros', activation='tanh')\n",
    ")\n",
    "model.add(Dense(50, input_dim=50, kernel_initializer='glorot_uniform', \n",
    "                bias_initializer='zeros', activation='tanh')\n",
    ")\n",
    "model.add(Dense(50, input_dim=50, kernel_initializer='glorot_uniform', \n",
    "                 bias_initializer='zeros', activation='tanh')\n",
    ")\n",
    "model.add(Dense(1, input_dim=50, kernel_initializer='glorot_uniform', \n",
    "                bias_initializer='zeros', activation='sigmoid'))\n",
    "\n",
    "sgd = SGD(\n",
    "    lr=0.001, decay=1e-7, momentum=0.9\n",
    ")\n",
    "\n",
    "# model.add(Dense(30, input_dim=7, activation='relu'))\n",
    "# model.add(Dense(1, activation='sigmoid'))\n",
    "\n",
    "# Compiling the model \n",
    "model.compile(optimizer=sgd,\n",
    "              loss='mean_squared_error',\n",
    "              metrics=['accuracy'])"
   ]
  },
  {
   "cell_type": "code",
   "execution_count": 185,
   "metadata": {},
   "outputs": [
    {
     "name": "stdout",
     "output_type": "stream",
     "text": [
      "Train on 6012 samples, validate on 1504 samples\n",
      "Epoch 1/50\n",
      "6012/6012 [==============================] - 1s 234us/step - loss: 1.3301 - accuracy: 0.4681 - val_loss: 1.2518 - val_accuracy: 0.4701\n",
      "Epoch 2/50\n",
      "6012/6012 [==============================] - 1s 231us/step - loss: 1.3164 - accuracy: 0.4689 - val_loss: 1.2509 - val_accuracy: 0.4701\n",
      "Epoch 3/50\n",
      "6012/6012 [==============================] - 1s 242us/step - loss: 1.3158 - accuracy: 0.4689 - val_loss: 1.2506 - val_accuracy: 0.4701\n",
      "Epoch 4/50\n",
      "6012/6012 [==============================] - 1s 227us/step - loss: 1.3156 - accuracy: 0.4689 - val_loss: 1.2505 - val_accuracy: 0.4701\n",
      "Epoch 5/50\n",
      "6012/6012 [==============================] - 1s 237us/step - loss: 1.3155 - accuracy: 0.4689 - val_loss: 1.2504 - val_accuracy: 0.4701\n",
      "Epoch 6/50\n",
      "6012/6012 [==============================] - 1s 237us/step - loss: 1.3154 - accuracy: 0.4689 - val_loss: 1.2503 - val_accuracy: 0.4701\n",
      "Epoch 7/50\n",
      "6012/6012 [==============================] - 2s 250us/step - loss: 1.3153 - accuracy: 0.4689 - val_loss: 1.2503 - val_accuracy: 0.4701\n",
      "Epoch 8/50\n",
      "6012/6012 [==============================] - 2s 276us/step - loss: 1.3153 - accuracy: 0.4689 - val_loss: 1.2502 - val_accuracy: 0.4701\n",
      "Epoch 9/50\n",
      "6012/6012 [==============================] - 2s 255us/step - loss: 1.3153 - accuracy: 0.4689 - val_loss: 1.2502 - val_accuracy: 0.4701\n",
      "Epoch 10/50\n",
      "6012/6012 [==============================] - 2s 310us/step - loss: 1.3152 - accuracy: 0.4689 - val_loss: 1.2502 - val_accuracy: 0.4701\n",
      "Epoch 11/50\n",
      "6012/6012 [==============================] - 2s 358us/step - loss: 1.3152 - accuracy: 0.4689 - val_loss: 1.2502 - val_accuracy: 0.4701\n",
      "Epoch 12/50\n",
      "6012/6012 [==============================] - 2s 296us/step - loss: 1.3152 - accuracy: 0.4689 - val_loss: 1.2502 - val_accuracy: 0.4701\n",
      "Epoch 13/50\n",
      "6012/6012 [==============================] - 2s 303us/step - loss: 1.3152 - accuracy: 0.4689 - val_loss: 1.2501 - val_accuracy: 0.4701\n",
      "Epoch 14/50\n",
      "6012/6012 [==============================] - 1s 244us/step - loss: 1.3152 - accuracy: 0.4689 - val_loss: 1.2501 - val_accuracy: 0.4701\n",
      "Epoch 15/50\n",
      "6012/6012 [==============================] - 1s 226us/step - loss: 1.3152 - accuracy: 0.4689 - val_loss: 1.2501 - val_accuracy: 0.4701\n",
      "Epoch 16/50\n",
      "6012/6012 [==============================] - 1s 225us/step - loss: 1.3152 - accuracy: 0.4689 - val_loss: 1.2501 - val_accuracy: 0.4701\n",
      "Epoch 17/50\n",
      "6012/6012 [==============================] - 1s 224us/step - loss: 1.3152 - accuracy: 0.4689 - val_loss: 1.2501 - val_accuracy: 0.4701\n",
      "Epoch 18/50\n",
      "6012/6012 [==============================] - 1s 227us/step - loss: 1.3151 - accuracy: 0.4689 - val_loss: 1.2501 - val_accuracy: 0.4701\n",
      "Epoch 19/50\n",
      "6012/6012 [==============================] - 1s 224us/step - loss: 1.3151 - accuracy: 0.4689 - val_loss: 1.2501 - val_accuracy: 0.4701\n",
      "Epoch 20/50\n",
      "6012/6012 [==============================] - 1s 240us/step - loss: 1.3151 - accuracy: 0.4689 - val_loss: 1.2501 - val_accuracy: 0.4701\n",
      "Epoch 21/50\n",
      "6012/6012 [==============================] - 1s 232us/step - loss: 1.3151 - accuracy: 0.4689 - val_loss: 1.2501 - val_accuracy: 0.4701\n",
      "Epoch 22/50\n",
      "6012/6012 [==============================] - 1s 226us/step - loss: 1.3151 - accuracy: 0.4689 - val_loss: 1.2501 - val_accuracy: 0.4701\n",
      "Epoch 23/50\n",
      "6012/6012 [==============================] - 1s 231us/step - loss: 1.3151 - accuracy: 0.4689 - val_loss: 1.2501 - val_accuracy: 0.4701\n",
      "Epoch 24/50\n",
      "6012/6012 [==============================] - 1s 225us/step - loss: 1.3151 - accuracy: 0.4689 - val_loss: 1.2501 - val_accuracy: 0.4701\n",
      "Epoch 25/50\n",
      "6012/6012 [==============================] - 1s 225us/step - loss: 1.3151 - accuracy: 0.4689 - val_loss: 1.2501 - val_accuracy: 0.4701\n",
      "Epoch 26/50\n",
      "6012/6012 [==============================] - 1s 246us/step - loss: 1.3151 - accuracy: 0.4689 - val_loss: 1.2501 - val_accuracy: 0.4701\n",
      "Epoch 27/50\n",
      "6012/6012 [==============================] - 1s 226us/step - loss: 1.3151 - accuracy: 0.4689 - val_loss: 1.2501 - val_accuracy: 0.4701\n",
      "Epoch 28/50\n",
      "6012/6012 [==============================] - 1s 231us/step - loss: 1.3151 - accuracy: 0.4689 - val_loss: 1.2501 - val_accuracy: 0.4701\n",
      "Epoch 29/50\n",
      "6012/6012 [==============================] - 1s 224us/step - loss: 1.3151 - accuracy: 0.4689 - val_loss: 1.2501 - val_accuracy: 0.4701\n",
      "Epoch 30/50\n",
      "6012/6012 [==============================] - 1s 224us/step - loss: 1.3151 - accuracy: 0.4689 - val_loss: 1.2501 - val_accuracy: 0.4701\n",
      "Epoch 31/50\n",
      "6012/6012 [==============================] - 1s 226us/step - loss: 1.3151 - accuracy: 0.4689 - val_loss: 1.2501 - val_accuracy: 0.4701\n",
      "Epoch 32/50\n",
      "6012/6012 [==============================] - 1s 226us/step - loss: 1.3151 - accuracy: 0.4689 - val_loss: 1.2501 - val_accuracy: 0.4701\n",
      "Epoch 33/50\n",
      "6012/6012 [==============================] - 1s 226us/step - loss: 1.3151 - accuracy: 0.4689 - val_loss: 1.2501 - val_accuracy: 0.4701\n",
      "Epoch 34/50\n",
      "6012/6012 [==============================] - 1s 226us/step - loss: 1.3151 - accuracy: 0.4689 - val_loss: 1.2501 - val_accuracy: 0.4701\n",
      "Epoch 35/50\n",
      "6012/6012 [==============================] - 1s 226us/step - loss: 1.3151 - accuracy: 0.4689 - val_loss: 1.2501 - val_accuracy: 0.4701\n",
      "Epoch 36/50\n",
      "6012/6012 [==============================] - 1s 226us/step - loss: 1.3151 - accuracy: 0.4689 - val_loss: 1.2501 - val_accuracy: 0.4701\n",
      "Epoch 37/50\n",
      "6012/6012 [==============================] - 1s 225us/step - loss: 1.3151 - accuracy: 0.4689 - val_loss: 1.2500 - val_accuracy: 0.4701\n",
      "Epoch 38/50\n",
      "6012/6012 [==============================] - 1s 223us/step - loss: 1.3151 - accuracy: 0.4689 - val_loss: 1.2500 - val_accuracy: 0.4701\n",
      "Epoch 39/50\n",
      "6012/6012 [==============================] - 1s 224us/step - loss: 1.3151 - accuracy: 0.4689 - val_loss: 1.2500 - val_accuracy: 0.4701\n",
      "Epoch 40/50\n",
      "6012/6012 [==============================] - 1s 224us/step - loss: 1.3151 - accuracy: 0.4689 - val_loss: 1.2500 - val_accuracy: 0.4701\n",
      "Epoch 41/50\n",
      "6012/6012 [==============================] - 1s 228us/step - loss: 1.3151 - accuracy: 0.4689 - val_loss: 1.2500 - val_accuracy: 0.4701\n",
      "Epoch 42/50\n",
      "6012/6012 [==============================] - 1s 223us/step - loss: 1.3151 - accuracy: 0.4689 - val_loss: 1.2500 - val_accuracy: 0.4701\n",
      "Epoch 43/50\n",
      "6012/6012 [==============================] - 1s 224us/step - loss: 1.3151 - accuracy: 0.4689 - val_loss: 1.2500 - val_accuracy: 0.4701\n",
      "Epoch 44/50\n",
      "6012/6012 [==============================] - 1s 224us/step - loss: 1.3151 - accuracy: 0.4689 - val_loss: 1.2500 - val_accuracy: 0.4701\n",
      "Epoch 45/50\n",
      "6012/6012 [==============================] - 1s 224us/step - loss: 1.3151 - accuracy: 0.4689 - val_loss: 1.2500 - val_accuracy: 0.4701\n",
      "Epoch 46/50\n",
      "6012/6012 [==============================] - 1s 220us/step - loss: 1.3151 - accuracy: 0.4689 - val_loss: 1.2500 - val_accuracy: 0.4701\n",
      "Epoch 47/50\n",
      "6012/6012 [==============================] - 1s 227us/step - loss: 1.3151 - accuracy: 0.4689 - val_loss: 1.2500 - val_accuracy: 0.4701\n",
      "Epoch 48/50\n",
      "6012/6012 [==============================] - 1s 225us/step - loss: 1.3151 - accuracy: 0.4689 - val_loss: 1.2500 - val_accuracy: 0.4701\n",
      "Epoch 49/50\n",
      "6012/6012 [==============================] - 1s 225us/step - loss: 1.3151 - accuracy: 0.4689 - val_loss: 1.2500 - val_accuracy: 0.4701\n",
      "Epoch 50/50\n",
      "6012/6012 [==============================] - 1s 224us/step - loss: 1.3151 - accuracy: 0.4689 - val_loss: 1.2500 - val_accuracy: 0.4701\n"
     ]
    },
    {
     "data": {
      "text/plain": [
       "<keras.callbacks.callbacks.History at 0x7f5ffd5b2860>"
      ]
     },
     "execution_count": 185,
     "metadata": {},
     "output_type": "execute_result"
    }
   ],
   "source": [
    "# Training the model \n",
    "model.fit(X_train, y_train, batch_size=5, epochs=50, validation_data=(X_test, y_test))"
   ]
  },
  {
   "cell_type": "code",
   "execution_count": 171,
   "metadata": {
    "scrolled": true
   },
   "outputs": [
    {
     "name": "stdout",
     "output_type": "stream",
     "text": [
      "1504/1504 [==============================] - 0s 14us/step\n"
     ]
    },
    {
     "data": {
      "text/plain": [
       "47.0079779624939"
      ]
     },
     "execution_count": 171,
     "metadata": {},
     "output_type": "execute_result"
    }
   ],
   "source": [
    "model.evaluate(X_test, y_test)[1] * 100 "
   ]
  },
  {
   "cell_type": "code",
   "execution_count": 178,
   "metadata": {},
   "outputs": [
    {
     "data": {
      "text/plain": [
       "array([[0.999992]], dtype=float32)"
      ]
     },
     "execution_count": 178,
     "metadata": {},
     "output_type": "execute_result"
    }
   ],
   "source": [
    "new_val = [1993, 94, 1993, 8, 7, 4, 13]\n",
    "new_val = np.array(new_val).reshape(1, -1)\n",
    "model.predict(new_val)"
   ]
  },
  {
   "cell_type": "code",
   "execution_count": 158,
   "metadata": {},
   "outputs": [
    {
     "data": {
      "text/html": [
       "<div>\n",
       "<style scoped>\n",
       "    .dataframe tbody tr th:only-of-type {\n",
       "        vertical-align: middle;\n",
       "    }\n",
       "\n",
       "    .dataframe tbody tr th {\n",
       "        vertical-align: top;\n",
       "    }\n",
       "\n",
       "    .dataframe thead th {\n",
       "        text-align: right;\n",
       "    }\n",
       "</style>\n",
       "<table border=\"1\" class=\"dataframe\">\n",
       "  <thead>\n",
       "    <tr style=\"text-align: right;\">\n",
       "      <th></th>\n",
       "      <th>S_year1</th>\n",
       "      <th>S_year2</th>\n",
       "      <th>year</th>\n",
       "      <th>month</th>\n",
       "      <th>day</th>\n",
       "      <th>HomeTeam</th>\n",
       "      <th>AwayTeam</th>\n",
       "      <th>FTHG</th>\n",
       "      <th>FTAG</th>\n",
       "      <th>FTR</th>\n",
       "    </tr>\n",
       "  </thead>\n",
       "  <tbody>\n",
       "    <tr>\n",
       "      <th>0</th>\n",
       "      <td>1993</td>\n",
       "      <td>94</td>\n",
       "      <td>1993</td>\n",
       "      <td>8</td>\n",
       "      <td>7</td>\n",
       "      <td>1.0</td>\n",
       "      <td>12.0</td>\n",
       "      <td>3</td>\n",
       "      <td>1</td>\n",
       "      <td>1</td>\n",
       "    </tr>\n",
       "    <tr>\n",
       "      <th>1</th>\n",
       "      <td>1993</td>\n",
       "      <td>94</td>\n",
       "      <td>1993</td>\n",
       "      <td>8</td>\n",
       "      <td>7</td>\n",
       "      <td>2.0</td>\n",
       "      <td>14.0</td>\n",
       "      <td>2</td>\n",
       "      <td>1</td>\n",
       "      <td>1</td>\n",
       "    </tr>\n",
       "    <tr>\n",
       "      <th>2</th>\n",
       "      <td>1993</td>\n",
       "      <td>94</td>\n",
       "      <td>1993</td>\n",
       "      <td>8</td>\n",
       "      <td>7</td>\n",
       "      <td>3.0</td>\n",
       "      <td>15.0</td>\n",
       "      <td>2</td>\n",
       "      <td>2</td>\n",
       "      <td>3</td>\n",
       "    </tr>\n",
       "    <tr>\n",
       "      <th>3</th>\n",
       "      <td>1993</td>\n",
       "      <td>94</td>\n",
       "      <td>1993</td>\n",
       "      <td>8</td>\n",
       "      <td>7</td>\n",
       "      <td>4.0</td>\n",
       "      <td>13.0</td>\n",
       "      <td>0</td>\n",
       "      <td>2</td>\n",
       "      <td>2</td>\n",
       "    </tr>\n",
       "    <tr>\n",
       "      <th>4</th>\n",
       "      <td>1993</td>\n",
       "      <td>94</td>\n",
       "      <td>1993</td>\n",
       "      <td>8</td>\n",
       "      <td>7</td>\n",
       "      <td>5.0</td>\n",
       "      <td>16.0</td>\n",
       "      <td>5</td>\n",
       "      <td>2</td>\n",
       "      <td>1</td>\n",
       "    </tr>\n",
       "  </tbody>\n",
       "</table>\n",
       "</div>"
      ],
      "text/plain": [
       "   S_year1  S_year2  year  month  day  HomeTeam  AwayTeam  FTHG  FTAG  FTR\n",
       "0     1993       94  1993      8    7       1.0      12.0     3     1    1\n",
       "1     1993       94  1993      8    7       2.0      14.0     2     1    1\n",
       "2     1993       94  1993      8    7       3.0      15.0     2     2    3\n",
       "3     1993       94  1993      8    7       4.0      13.0     0     2    2\n",
       "4     1993       94  1993      8    7       5.0      16.0     5     2    1"
      ]
     },
     "execution_count": 158,
     "metadata": {},
     "output_type": "execute_result"
    }
   ],
   "source": [
    "df.head() "
   ]
  },
  {
   "cell_type": "code",
   "execution_count": null,
   "metadata": {},
   "outputs": [],
   "source": []
  }
 ],
 "metadata": {
  "kernelspec": {
   "display_name": "Python 3",
   "language": "python",
   "name": "python3"
  },
  "language_info": {
   "codemirror_mode": {
    "name": "ipython",
    "version": 3
   },
   "file_extension": ".py",
   "mimetype": "text/x-python",
   "name": "python",
   "nbconvert_exporter": "python",
   "pygments_lexer": "ipython3",
   "version": "3.6.6"
  }
 },
 "nbformat": 4,
 "nbformat_minor": 2
}
