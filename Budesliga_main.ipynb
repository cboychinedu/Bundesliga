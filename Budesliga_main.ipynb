{
 "cells": [
  {
   "cell_type": "code",
   "execution_count": 1,
   "metadata": {},
   "outputs": [],
   "source": [
    "#!/usr/bin/env python3 "
   ]
  },
  {
   "cell_type": "code",
   "execution_count": 73,
   "metadata": {},
   "outputs": [],
   "source": [
    "# Importing the necessary packages \n",
    "import numpy as np \n",
    "import tensorflow as tf \n",
    "import pandas as pd \n",
    "import matplotlib.pyplot as plt \n",
    "import seaborn as sns "
   ]
  },
  {
   "cell_type": "code",
   "execution_count": 74,
   "metadata": {},
   "outputs": [
    {
     "data": {
      "text/html": [
       "<div>\n",
       "<style scoped>\n",
       "    .dataframe tbody tr th:only-of-type {\n",
       "        vertical-align: middle;\n",
       "    }\n",
       "\n",
       "    .dataframe tbody tr th {\n",
       "        vertical-align: top;\n",
       "    }\n",
       "\n",
       "    .dataframe thead th {\n",
       "        text-align: right;\n",
       "    }\n",
       "</style>\n",
       "<table border=\"1\" class=\"dataframe\">\n",
       "  <thead>\n",
       "    <tr style=\"text-align: right;\">\n",
       "      <th></th>\n",
       "      <th>Div</th>\n",
       "      <th>Date</th>\n",
       "      <th>HomeTeam</th>\n",
       "      <th>AwayTeam</th>\n",
       "      <th>GBH</th>\n",
       "      <th>GBD</th>\n",
       "      <th>GBA</th>\n",
       "      <th>FTR</th>\n",
       "      <th>FTHG</th>\n",
       "      <th>FTAG</th>\n",
       "      <th>Attendance</th>\n",
       "      <th>WHH</th>\n",
       "      <th>WHD</th>\n",
       "      <th>WHA</th>\n",
       "    </tr>\n",
       "  </thead>\n",
       "  <tbody>\n",
       "    <tr>\n",
       "      <th>0</th>\n",
       "      <td>D1</td>\n",
       "      <td>11/08/00</td>\n",
       "      <td>Dortmund</td>\n",
       "      <td>Hansa Rostock</td>\n",
       "      <td>1.5</td>\n",
       "      <td>3.4</td>\n",
       "      <td>5.0</td>\n",
       "      <td>H</td>\n",
       "      <td>1</td>\n",
       "      <td>0</td>\n",
       "      <td>61000.0</td>\n",
       "      <td>1.44</td>\n",
       "      <td>3.6</td>\n",
       "      <td>6.5</td>\n",
       "    </tr>\n",
       "    <tr>\n",
       "      <th>1</th>\n",
       "      <td>D1</td>\n",
       "      <td>12/08/00</td>\n",
       "      <td>Bayern Munich</td>\n",
       "      <td>Hertha</td>\n",
       "      <td>1.3</td>\n",
       "      <td>4.5</td>\n",
       "      <td>6.0</td>\n",
       "      <td>H</td>\n",
       "      <td>4</td>\n",
       "      <td>1</td>\n",
       "      <td>57000.0</td>\n",
       "      <td>1.44</td>\n",
       "      <td>3.6</td>\n",
       "      <td>6.5</td>\n",
       "    </tr>\n",
       "    <tr>\n",
       "      <th>2</th>\n",
       "      <td>D1</td>\n",
       "      <td>12/08/00</td>\n",
       "      <td>Freiburg</td>\n",
       "      <td>Stuttgart</td>\n",
       "      <td>2.4</td>\n",
       "      <td>3.1</td>\n",
       "      <td>2.5</td>\n",
       "      <td>H</td>\n",
       "      <td>4</td>\n",
       "      <td>0</td>\n",
       "      <td>22500.0</td>\n",
       "      <td>2.40</td>\n",
       "      <td>3.2</td>\n",
       "      <td>2.5</td>\n",
       "    </tr>\n",
       "    <tr>\n",
       "      <th>3</th>\n",
       "      <td>D1</td>\n",
       "      <td>12/08/00</td>\n",
       "      <td>Hamburg</td>\n",
       "      <td>Munich 1860</td>\n",
       "      <td>1.8</td>\n",
       "      <td>3.3</td>\n",
       "      <td>3.8</td>\n",
       "      <td>D</td>\n",
       "      <td>2</td>\n",
       "      <td>2</td>\n",
       "      <td>35000.0</td>\n",
       "      <td>1.66</td>\n",
       "      <td>3.3</td>\n",
       "      <td>4.5</td>\n",
       "    </tr>\n",
       "    <tr>\n",
       "      <th>4</th>\n",
       "      <td>D1</td>\n",
       "      <td>12/08/00</td>\n",
       "      <td>Kaiserslautern</td>\n",
       "      <td>Bochum</td>\n",
       "      <td>1.5</td>\n",
       "      <td>3.4</td>\n",
       "      <td>4.6</td>\n",
       "      <td>A</td>\n",
       "      <td>0</td>\n",
       "      <td>1</td>\n",
       "      <td>38000.0</td>\n",
       "      <td>1.50</td>\n",
       "      <td>3.6</td>\n",
       "      <td>5.5</td>\n",
       "    </tr>\n",
       "  </tbody>\n",
       "</table>\n",
       "</div>"
      ],
      "text/plain": [
       "  Div      Date        HomeTeam       AwayTeam  GBH  GBD  GBA FTR  FTHG  FTAG  \\\n",
       "0  D1  11/08/00        Dortmund  Hansa Rostock  1.5  3.4  5.0   H     1     0   \n",
       "1  D1  12/08/00   Bayern Munich         Hertha  1.3  4.5  6.0   H     4     1   \n",
       "2  D1  12/08/00        Freiburg      Stuttgart  2.4  3.1  2.5   H     4     0   \n",
       "3  D1  12/08/00         Hamburg    Munich 1860  1.8  3.3  3.8   D     2     2   \n",
       "4  D1  12/08/00  Kaiserslautern         Bochum  1.5  3.4  4.6   A     0     1   \n",
       "\n",
       "   Attendance   WHH  WHD  WHA  \n",
       "0     61000.0  1.44  3.6  6.5  \n",
       "1     57000.0  1.44  3.6  6.5  \n",
       "2     22500.0  2.40  3.2  2.5  \n",
       "3     35000.0  1.66  3.3  4.5  \n",
       "4     38000.0  1.50  3.6  5.5  "
      ]
     },
     "execution_count": 74,
     "metadata": {},
     "output_type": "execute_result"
    }
   ],
   "source": [
    "# Reading the dataset into memory \n",
    "dataset = pd.read_excel('dope.xlsx',  error_bad_lines=False)\n",
    "dataset = dataset.fillna(0)\n",
    "\n",
    "# viewing the dataset \n",
    "dataset.head() "
   ]
  },
  {
   "cell_type": "code",
   "execution_count": 75,
   "metadata": {},
   "outputs": [
    {
     "data": {
      "image/png": "[encoded data removed]",
      "text/plain": [
       "<Figure size 432x288 with 1 Axes>"
      ]
     },
     "metadata": {},
     "output_type": "display_data"
    }
   ],
   "source": [
    "# Plotting a graph of the total counts for the Potential winnings.\n",
    "degree_count = dataset['FTR'].value_counts() \n",
    "degree_count.plot(kind='bar')\n",
    "plt.xlabel('Winnings')\n",
    "plt.ylabel('Counts')\n",
    "plt.show() "
   ]
  },
  {
   "cell_type": "code",
   "execution_count": 76,
   "metadata": {},
   "outputs": [],
   "source": [
    "# Undersampling the dataset \n",
    "# shuffle the Dataset  \n",
    "shuffled_df = dataset.sample(frac=2, random_state=4, replace=True)\n",
    "\n",
    "# Draw values remain the same \n",
    "draw = shuffled_df.loc[shuffled_df['FTR'] == 'D'].sample(n=1464, random_state=42)\n",
    "\n",
    "# amount of Away winnings 1500 rows. \n",
    "awayteam = shuffled_df.loc[shuffled_df['FTR'] == 'A'].sample(n=1464, random_state=42)\n",
    "\n",
    "# sampling the Home winnings to 1500 rows. \n",
    "hometeam = shuffled_df.loc[shuffled_df['FTR'] == 'H'].sample(n=1464, random_state=42)\n",
    "\n",
    "# normalizing the sampled values into a single column \n",
    "dataset = pd.concat([awayteam, hometeam, draw])"
   ]
  },
  {
   "cell_type": "code",
   "execution_count": 37,
   "metadata": {},
   "outputs": [],
   "source": [
    "# converting the date and season into date time formats \n",
    "# Changing the datetime for the Actual Date the mactches was played\n",
    "time = pd.to_datetime(dataset['Date'], dayfirst=True, errors='coerce')\n",
    "dataset['year'] = time.dt.year \n",
    "dataset['month'] = time.dt.month \n",
    "dataset['day'] = time.dt.day \n",
    "# Dropping the data column \n",
    "dataset = dataset.drop(['Date'], axis=1)"
   ]
  },
  {
   "cell_type": "code",
   "execution_count": null,
   "metadata": {},
   "outputs": [],
   "source": []
  },
  {
   "cell_type": "code",
   "execution_count": 47,
   "metadata": {},
   "outputs": [
    {
     "data": {
      "text/html": [
       "<div>\n",
       "<style scoped>\n",
       "    .dataframe tbody tr th:only-of-type {\n",
       "        vertical-align: middle;\n",
       "    }\n",
       "\n",
       "    .dataframe tbody tr th {\n",
       "        vertical-align: top;\n",
       "    }\n",
       "\n",
       "    .dataframe thead th {\n",
       "        text-align: right;\n",
       "    }\n",
       "</style>\n",
       "<table border=\"1\" class=\"dataframe\">\n",
       "  <thead>\n",
       "    <tr style=\"text-align: right;\">\n",
       "      <th></th>\n",
       "      <th>year</th>\n",
       "      <th>month</th>\n",
       "      <th>day</th>\n",
       "      <th>HomeTeam</th>\n",
       "      <th>AwayTeam</th>\n",
       "      <th>Attendance</th>\n",
       "      <th>WHH</th>\n",
       "      <th>WHD</th>\n",
       "      <th>WHA</th>\n",
       "      <th>FTR</th>\n",
       "    </tr>\n",
       "  </thead>\n",
       "  <tbody>\n",
       "    <tr>\n",
       "      <th>4047</th>\n",
       "      <td>2013</td>\n",
       "      <td>10</td>\n",
       "      <td>5</td>\n",
       "      <td>Wolfsburg</td>\n",
       "      <td>Braunschweig</td>\n",
       "      <td>17.0</td>\n",
       "      <td>10.00</td>\n",
       "      <td>1.29</td>\n",
       "      <td>6.25</td>\n",
       "      <td>A</td>\n",
       "    </tr>\n",
       "    <tr>\n",
       "      <th>589</th>\n",
       "      <td>2002</td>\n",
       "      <td>4</td>\n",
       "      <td>20</td>\n",
       "      <td>Leverkusen</td>\n",
       "      <td>Werder Bremen</td>\n",
       "      <td>22500.0</td>\n",
       "      <td>0.00</td>\n",
       "      <td>0.00</td>\n",
       "      <td>0.00</td>\n",
       "      <td>A</td>\n",
       "    </tr>\n",
       "    <tr>\n",
       "      <th>403</th>\n",
       "      <td>2001</td>\n",
       "      <td>10</td>\n",
       "      <td>28</td>\n",
       "      <td>Hamburg</td>\n",
       "      <td>Hansa Rostock</td>\n",
       "      <td>40000.0</td>\n",
       "      <td>1.67</td>\n",
       "      <td>3.40</td>\n",
       "      <td>4.33</td>\n",
       "      <td>A</td>\n",
       "    </tr>\n",
       "    <tr>\n",
       "      <th>5834</th>\n",
       "      <td>2019</td>\n",
       "      <td>8</td>\n",
       "      <td>31</td>\n",
       "      <td>Freiburg</td>\n",
       "      <td>FC Koln</td>\n",
       "      <td>14.0</td>\n",
       "      <td>3.00</td>\n",
       "      <td>2.45</td>\n",
       "      <td>3.45</td>\n",
       "      <td>A</td>\n",
       "    </tr>\n",
       "    <tr>\n",
       "      <th>1300</th>\n",
       "      <td>2004</td>\n",
       "      <td>10</td>\n",
       "      <td>23</td>\n",
       "      <td>M'gladbach</td>\n",
       "      <td>Hannover</td>\n",
       "      <td>14.0</td>\n",
       "      <td>2.15</td>\n",
       "      <td>1.61</td>\n",
       "      <td>2.25</td>\n",
       "      <td>A</td>\n",
       "    </tr>\n",
       "  </tbody>\n",
       "</table>\n",
       "</div>"
      ],
      "text/plain": [
       "      year  month  day    HomeTeam       AwayTeam  Attendance    WHH   WHD  \\\n",
       "4047  2013     10    5   Wolfsburg   Braunschweig        17.0  10.00  1.29   \n",
       "589   2002      4   20  Leverkusen  Werder Bremen     22500.0   0.00  0.00   \n",
       "403   2001     10   28     Hamburg  Hansa Rostock     40000.0   1.67  3.40   \n",
       "5834  2019      8   31    Freiburg        FC Koln        14.0   3.00  2.45   \n",
       "1300  2004     10   23  M'gladbach       Hannover        14.0   2.15  1.61   \n",
       "\n",
       "       WHA FTR  \n",
       "4047  6.25   A  \n",
       "589   0.00   A  \n",
       "403   4.33   A  \n",
       "5834  3.45   A  \n",
       "1300  2.25   A  "
      ]
     },
     "execution_count": 47,
     "metadata": {},
     "output_type": "execute_result"
    }
   ],
   "source": [
    "# Creating a new dataframe from the existing loaded dataset \n",
    "df = dataset[['year', 'month', 'day', 'HomeTeam', 'AwayTeam', 'Attendance', 'WHH', 'WHD', 'WHA', 'FTR']]\n",
    "df.head() "
   ]
  },
  {
   "cell_type": "code",
   "execution_count": 48,
   "metadata": {},
   "outputs": [
    {
     "data": {
      "text/plain": [
       "array(['Wolfsburg', 'Leverkusen', 'Hamburg', 'Freiburg', \"M'gladbach\",\n",
       "       'Ein Frankfurt', 'Hoffenheim', 'Bayern Munich', 'Hertha',\n",
       "       'FC Koln', 'Augsburg', 'Werder Bremen', 'Karlsruhe', 'Hannover',\n",
       "       'Bochum', 'Kaiserslautern', 'Mainz', 'Munich 1860', 'Stuttgart',\n",
       "       'Nurnberg', 'Darmstadt', 'Hansa Rostock', 'Schalke 04', 'Duisburg',\n",
       "       'Dortmund', 'Fortuna Dusseldorf', 'St Pauli', 'Cottbus',\n",
       "       'Bielefeld', 'Aachen', 'Braunschweig', 'RB Leipzig',\n",
       "       'Greuther Furth', 'Unterhaching', 'Ingolstadt', 'Paderborn',\n",
       "       'Union Berlin'], dtype=object)"
      ]
     },
     "execution_count": 48,
     "metadata": {},
     "output_type": "execute_result"
    }
   ],
   "source": [
    "# Showing the unique values of all the clubs in total. \n",
    "df['HomeTeam'].unique()"
   ]
  },
  {
   "cell_type": "code",
   "execution_count": 49,
   "metadata": {},
   "outputs": [
    {
     "name": "stderr",
     "output_type": "stream",
     "text": [
      "/home/mbonu/anaconda3/lib/python3.6/site-packages/ipykernel_launcher.py:48: SettingWithCopyWarning: \n",
      "A value is trying to be set on a copy of a slice from a DataFrame.\n",
      "Try using .loc[row_indexer,col_indexer] = value instead\n",
      "\n",
      "See the caveats in the documentation: http://pandas.pydata.org/pandas-docs/stable/indexing.html#indexing-view-versus-copy\n",
      "/home/mbonu/anaconda3/lib/python3.6/site-packages/ipykernel_launcher.py:49: SettingWithCopyWarning: \n",
      "A value is trying to be set on a copy of a slice from a DataFrame.\n",
      "Try using .loc[row_indexer,col_indexer] = value instead\n",
      "\n",
      "See the caveats in the documentation: http://pandas.pydata.org/pandas-docs/stable/indexing.html#indexing-view-versus-copy\n"
     ]
    }
   ],
   "source": [
    "# Creating a dictionary to store the numerical values for the respective clubs \n",
    "C = {\n",
    "    \"Bayern Munich\": 1, \n",
    "    \"Dortmund\": 2, \n",
    "    \"Duisburg\": 3, \n",
    "    \"FC Koln\": 4, \n",
    "    \"Hamburg\": 5, \n",
    "    \"Leipzig\": 6,\n",
    "    \"M'Gladbach\": 7,\n",
    "    \"Wattenscheid\": 8, \n",
    "    \"Werder Bremen\": 9, \n",
    "    \"Dresden\": 10, \n",
    "    \"Ein Frankfurt\": 11,            \n",
    "    \"Freiburg\": 12, \n",
    "    \"Kaiserslautern\": 13, \n",
    "    \"Karlsruhe\": 14, \n",
    "    \"Leverkusen\": 15, \n",
    "    \"Nurnberg\": 16, \n",
    "    \"Schalke 04\": 17, \n",
    "    \"Stuttgart\": 18, \n",
    "    \"Uerdingen\": 19, \n",
    "    \"Bochum\": 20, \n",
    "    \"Munich 1860\": 21, \n",
    "    \"M'gladbach\": 22, \n",
    "    \"Hansa Rostock\": 23, \n",
    "    \"St Pauli\": 24, \n",
    "    \"Dusseldorf\": 25, \n",
    "    \"Bielefeld\": 26, \n",
    "    \"Hertha\": 27, \n",
    "    \"Wolfsburg\": 28, \n",
    "    \"Ulm\": 29, \n",
    "    \"Unterhaching\": 30, \n",
    "    \"Cottbus\": 31, \n",
    "    \"Hannover\": 32, \n",
    "    \"Mainz\": 33, \n",
    "    \"Aachen\": 34, \n",
    "    \"Hoffenheim\": 35, \n",
    "    \"Augsburg\": 36, \n",
    "    \"Greuther Furth\": 37, \n",
    "    \"Fortuna Dusseldorf\": 38, \n",
    "    \"Braunschweig\": 39, \n",
    "    \"Paderborn\": 40, \n",
    "    \"Darmstadt\": 41   \n",
    "}\n",
    "\n",
    "# mapping the values of the respective dictionary and its corresponding values \n",
    "# to the created cleaned dataframe \n",
    "df['HomeTeam'] = df['HomeTeam'].map(C)\n",
    "df['AwayTeam'] = df['AwayTeam'].map(C)"
   ]
  },
  {
   "cell_type": "code",
   "execution_count": 50,
   "metadata": {},
   "outputs": [
    {
     "data": {
      "text/plain": [
       "array(['A', 'H', 'D'], dtype=object)"
      ]
     },
     "execution_count": 50,
     "metadata": {},
     "output_type": "execute_result"
    }
   ],
   "source": [
    "# Showing the Values for the full time results \n",
    "# H = Home Team won = 1\n",
    "# D = The match was a Draw = 3\n",
    "# A = Away Team Won = 2 \n",
    "df['FTR'].unique() "
   ]
  },
  {
   "cell_type": "code",
   "execution_count": 51,
   "metadata": {},
   "outputs": [
    {
     "name": "stderr",
     "output_type": "stream",
     "text": [
      "/home/mbonu/anaconda3/lib/python3.6/site-packages/ipykernel_launcher.py:8: SettingWithCopyWarning: \n",
      "A value is trying to be set on a copy of a slice from a DataFrame.\n",
      "Try using .loc[row_indexer,col_indexer] = value instead\n",
      "\n",
      "See the caveats in the documentation: http://pandas.pydata.org/pandas-docs/stable/indexing.html#indexing-view-versus-copy\n",
      "  \n"
     ]
    }
   ],
   "source": [
    "# Creating a dictionary to convert the values in the FTR column into numerical values \n",
    "FT = {}\n",
    "FT['H'] = 1  # Home team won for values on one \n",
    "FT['A'] = 2  # Away team won for values of two \n",
    "FT['D'] = 3  # the match ended a Draw for values of three. \n",
    "\n",
    "# Mapping the values to the FTR column \n",
    "df['FTR'] = df['FTR'].map(FT)"
   ]
  },
  {
   "cell_type": "code",
   "execution_count": 52,
   "metadata": {},
   "outputs": [
    {
     "data": {
      "text/html": [
       "<div>\n",
       "<style scoped>\n",
       "    .dataframe tbody tr th:only-of-type {\n",
       "        vertical-align: middle;\n",
       "    }\n",
       "\n",
       "    .dataframe tbody tr th {\n",
       "        vertical-align: top;\n",
       "    }\n",
       "\n",
       "    .dataframe thead th {\n",
       "        text-align: right;\n",
       "    }\n",
       "</style>\n",
       "<table border=\"1\" class=\"dataframe\">\n",
       "  <thead>\n",
       "    <tr style=\"text-align: right;\">\n",
       "      <th></th>\n",
       "      <th>year</th>\n",
       "      <th>month</th>\n",
       "      <th>day</th>\n",
       "      <th>HomeTeam</th>\n",
       "      <th>AwayTeam</th>\n",
       "      <th>Attendance</th>\n",
       "      <th>WHH</th>\n",
       "      <th>WHD</th>\n",
       "      <th>WHA</th>\n",
       "      <th>FTR</th>\n",
       "    </tr>\n",
       "  </thead>\n",
       "  <tbody>\n",
       "    <tr>\n",
       "      <th>4047</th>\n",
       "      <td>2013</td>\n",
       "      <td>10</td>\n",
       "      <td>5</td>\n",
       "      <td>28.0</td>\n",
       "      <td>39.0</td>\n",
       "      <td>17.0</td>\n",
       "      <td>10.00</td>\n",
       "      <td>1.29</td>\n",
       "      <td>6.25</td>\n",
       "      <td>2</td>\n",
       "    </tr>\n",
       "    <tr>\n",
       "      <th>589</th>\n",
       "      <td>2002</td>\n",
       "      <td>4</td>\n",
       "      <td>20</td>\n",
       "      <td>15.0</td>\n",
       "      <td>9.0</td>\n",
       "      <td>22500.0</td>\n",
       "      <td>0.00</td>\n",
       "      <td>0.00</td>\n",
       "      <td>0.00</td>\n",
       "      <td>2</td>\n",
       "    </tr>\n",
       "    <tr>\n",
       "      <th>403</th>\n",
       "      <td>2001</td>\n",
       "      <td>10</td>\n",
       "      <td>28</td>\n",
       "      <td>5.0</td>\n",
       "      <td>23.0</td>\n",
       "      <td>40000.0</td>\n",
       "      <td>1.67</td>\n",
       "      <td>3.40</td>\n",
       "      <td>4.33</td>\n",
       "      <td>2</td>\n",
       "    </tr>\n",
       "    <tr>\n",
       "      <th>5834</th>\n",
       "      <td>2019</td>\n",
       "      <td>8</td>\n",
       "      <td>31</td>\n",
       "      <td>12.0</td>\n",
       "      <td>4.0</td>\n",
       "      <td>14.0</td>\n",
       "      <td>3.00</td>\n",
       "      <td>2.45</td>\n",
       "      <td>3.45</td>\n",
       "      <td>2</td>\n",
       "    </tr>\n",
       "    <tr>\n",
       "      <th>1300</th>\n",
       "      <td>2004</td>\n",
       "      <td>10</td>\n",
       "      <td>23</td>\n",
       "      <td>22.0</td>\n",
       "      <td>32.0</td>\n",
       "      <td>14.0</td>\n",
       "      <td>2.15</td>\n",
       "      <td>1.61</td>\n",
       "      <td>2.25</td>\n",
       "      <td>2</td>\n",
       "    </tr>\n",
       "  </tbody>\n",
       "</table>\n",
       "</div>"
      ],
      "text/plain": [
       "      year  month  day  HomeTeam  AwayTeam  Attendance    WHH   WHD   WHA  FTR\n",
       "4047  2013     10    5      28.0      39.0        17.0  10.00  1.29  6.25    2\n",
       "589   2002      4   20      15.0       9.0     22500.0   0.00  0.00  0.00    2\n",
       "403   2001     10   28       5.0      23.0     40000.0   1.67  3.40  4.33    2\n",
       "5834  2019      8   31      12.0       4.0        14.0   3.00  2.45  3.45    2\n",
       "1300  2004     10   23      22.0      32.0        14.0   2.15  1.61  2.25    2"
      ]
     },
     "execution_count": 52,
     "metadata": {},
     "output_type": "execute_result"
    }
   ],
   "source": [
    "# Viewing the filtered dataset that has only numerical values. \n",
    "# Cleaning the dataset and removing Nan Values\n",
    "df = df[~df.isin([np.nan, np.inf, -np.inf]).any(1)]\n",
    "#df = df.fillna(df.mean(), inplace=True)\n",
    "df.head() "
   ]
  },
  {
   "cell_type": "code",
   "execution_count": 53,
   "metadata": {},
   "outputs": [],
   "source": [
    "## Visualizing the Graph "
   ]
  },
  {
   "cell_type": "code",
   "execution_count": 54,
   "metadata": {},
   "outputs": [
    {
     "name": "stdout",
     "output_type": "stream",
     "text": [
      "1464 winnings for the HOME TEAM\n"
     ]
    }
   ],
   "source": [
    "# Getting the numbers of winnings for the HOME TEAM \n",
    "hometeam_count = dataset[dataset['FTR'] == 'H'].count() \n",
    "print(hometeam_count['FTR'], 'winnings for the HOME TEAM')"
   ]
  },
  {
   "cell_type": "code",
   "execution_count": 55,
   "metadata": {},
   "outputs": [
    {
     "name": "stdout",
     "output_type": "stream",
     "text": [
      "1464 winnings for the AWAY TEAM\n"
     ]
    }
   ],
   "source": [
    "# Getting the number of winnings for the AWAY TEAM \n",
    "awayteam_count = dataset[dataset['FTR'] == 'A'].count() \n",
    "print(awayteam_count['FTR'], 'winnings for the AWAY TEAM')"
   ]
  },
  {
   "cell_type": "code",
   "execution_count": 56,
   "metadata": {},
   "outputs": [],
   "source": [
    "## EDA for HOME TEAM"
   ]
  },
  {
   "cell_type": "code",
   "execution_count": 57,
   "metadata": {},
   "outputs": [
    {
     "data": {
      "image/png": "[encoded data removed]",
      "text/plain": [
       "<Figure size 432x288 with 1 Axes>"
      ]
     },
     "metadata": {},
     "output_type": "display_data"
    }
   ],
   "source": [
    "# f, axis = plt.subplots(1, 3)\n",
    "# Plotting a count plot of graph of winnings for the HOME TEAM only\n",
    "# Against the month inwhich they won the most.\n",
    "hometeam_count = dataset[dataset['FTR'] == 'H']\n",
    "sns.countplot(x='month', hue='FTR', data=hometeam_count)\n",
    "plt.grid(True)\n",
    "plt.show() "
   ]
  },
  {
   "cell_type": "code",
   "execution_count": 58,
   "metadata": {},
   "outputs": [
    {
     "data": {
      "image/png": "[encoded data removed]",
      "text/plain": [
       "<Figure size 432x288 with 1 Axes>"
      ]
     },
     "metadata": {},
     "output_type": "display_data"
    }
   ],
   "source": [
    "# Plotting a count plot of graph of winnings for the HOME TEAM only\n",
    "# Against the month inwhich they won the most.\n",
    "# the month being the 4th month and is filtered off before plotting. \n",
    "month_4th_count = hometeam_count[hometeam_count['month'] == 4]\n",
    "ax = sns.countplot(x='day', hue='FTR', data=month_4th_count)\n",
    "plt.grid(True)\n",
    "plt.show() "
   ]
  },
  {
   "cell_type": "code",
   "execution_count": 59,
   "metadata": {},
   "outputs": [
    {
     "data": {
      "image/png": "[encoded data removed]",
      "text/plain": [
       "<Figure size 432x288 with 1 Axes>"
      ]
     },
     "metadata": {},
     "output_type": "display_data"
    }
   ],
   "source": [
    "# showing a count plot of home team wining in the month of April (4th month)\n",
    "# ax = sns.countplot(x='FTR', hue='HomeTeam', data=hometeam_count)\n",
    "# ax.legend(loc='center left', bbox_to_anchor=(1, 0.5))\n",
    "# plt.show() \n",
    "month_4th_win = month_4th_count['HomeTeam'].value_counts()\n",
    "month_4th_win.plot(kind='bar')\n",
    "plt.xlabel('Winnings')\n",
    "plt.ylabel('Counts')\n",
    "plt.show() "
   ]
  },
  {
   "cell_type": "code",
   "execution_count": 60,
   "metadata": {},
   "outputs": [],
   "source": [
    "# # winnings for the 11th month \n",
    "# month11th_win = hometeam_monthcount['HomeTeam'].value_counts() \n",
    "# month11th_win.plot(kind='bar')\n",
    "# plt.xlabel('Winnings')\n",
    "# plt.ylabel('Counts')\n",
    "# plt.show() "
   ]
  },
  {
   "cell_type": "code",
   "execution_count": 61,
   "metadata": {},
   "outputs": [
    {
     "data": {
      "image/png": "[encoded data removed]",
      "text/plain": [
       "<Figure size 1440x720 with 2 Axes>"
      ]
     },
     "metadata": {},
     "output_type": "display_data"
    }
   ],
   "source": [
    "# Sample figsize in inches\n",
    "fig, ax = plt.subplots(figsize=(20,10))         \n",
    "# Imbalanced DataFrame Correlation\n",
    "corr = df.corr()\n",
    "sns.heatmap(corr, cmap='YlGnBu', annot_kws={'size':30}, ax=ax)\n",
    "ax.set_title(\"Imbalanced Correlation Matrix\", fontsize=14)\n",
    "plt.show()"
   ]
  },
  {
   "cell_type": "code",
   "execution_count": 62,
   "metadata": {},
   "outputs": [],
   "source": [
    "#### Building A Machine Learning Model To Fit The Data #### \n",
    "## 1). Logistic Regression"
   ]
  },
  {
   "cell_type": "code",
   "execution_count": 63,
   "metadata": {},
   "outputs": [
    {
     "name": "stderr",
     "output_type": "stream",
     "text": [
      "Using TensorFlow backend.\n"
     ]
    }
   ],
   "source": [
    "# Importing the necessary packages needed for Building the model \n",
    "from keras.models import Sequential \n",
    "from keras.layers import Dense \n",
    "from keras.optimizers import SGD \n",
    "from sklearn.model_selection import train_test_split\n",
    "from sklearn.linear_model import LogisticRegression \n",
    "from sklearn.ensemble import RandomForestRegressor\n",
    "from sklearn.ensemble import RandomForestClassifier \n",
    "from sklearn.svm import SVC"
   ]
  },
  {
   "cell_type": "code",
   "execution_count": 64,
   "metadata": {},
   "outputs": [],
   "source": [
    "# saving teh dataset into input(x) feature and output feature(y)\n",
    "X = df.iloc[:, 0:9].values\n",
    "y = df.iloc[:, 9].values"
   ]
  },
  {
   "cell_type": "code",
   "execution_count": null,
   "metadata": {},
   "outputs": [],
   "source": []
  },
  {
   "cell_type": "code",
   "execution_count": 65,
   "metadata": {},
   "outputs": [],
   "source": [
    "# Splitting the dataset into train and test set split \n",
    "X_train, X_test, y_train, y_test = train_test_split(X, \n",
    "                                                   y, \n",
    "                                                   test_size = 0.2, \n",
    "                                                   random_state = 50)"
   ]
  },
  {
   "cell_type": "code",
   "execution_count": 68,
   "metadata": {},
   "outputs": [
    {
     "data": {
      "text/html": [
       "<div>\n",
       "<style scoped>\n",
       "    .dataframe tbody tr th:only-of-type {\n",
       "        vertical-align: middle;\n",
       "    }\n",
       "\n",
       "    .dataframe tbody tr th {\n",
       "        vertical-align: top;\n",
       "    }\n",
       "\n",
       "    .dataframe thead th {\n",
       "        text-align: right;\n",
       "    }\n",
       "</style>\n",
       "<table border=\"1\" class=\"dataframe\">\n",
       "  <thead>\n",
       "    <tr style=\"text-align: right;\">\n",
       "      <th></th>\n",
       "      <th>year</th>\n",
       "      <th>month</th>\n",
       "      <th>day</th>\n",
       "      <th>HomeTeam</th>\n",
       "      <th>AwayTeam</th>\n",
       "      <th>Attendance</th>\n",
       "      <th>WHH</th>\n",
       "      <th>WHD</th>\n",
       "      <th>WHA</th>\n",
       "    </tr>\n",
       "  </thead>\n",
       "  <tbody>\n",
       "    <tr>\n",
       "      <th>4047</th>\n",
       "      <td>2013</td>\n",
       "      <td>10</td>\n",
       "      <td>5</td>\n",
       "      <td>28.0</td>\n",
       "      <td>39.0</td>\n",
       "      <td>17.0</td>\n",
       "      <td>10.00</td>\n",
       "      <td>1.29</td>\n",
       "      <td>6.25</td>\n",
       "    </tr>\n",
       "    <tr>\n",
       "      <th>589</th>\n",
       "      <td>2002</td>\n",
       "      <td>4</td>\n",
       "      <td>20</td>\n",
       "      <td>15.0</td>\n",
       "      <td>9.0</td>\n",
       "      <td>22500.0</td>\n",
       "      <td>0.00</td>\n",
       "      <td>0.00</td>\n",
       "      <td>0.00</td>\n",
       "    </tr>\n",
       "    <tr>\n",
       "      <th>403</th>\n",
       "      <td>2001</td>\n",
       "      <td>10</td>\n",
       "      <td>28</td>\n",
       "      <td>5.0</td>\n",
       "      <td>23.0</td>\n",
       "      <td>40000.0</td>\n",
       "      <td>1.67</td>\n",
       "      <td>3.40</td>\n",
       "      <td>4.33</td>\n",
       "    </tr>\n",
       "  </tbody>\n",
       "</table>\n",
       "</div>"
      ],
      "text/plain": [
       "      year  month  day  HomeTeam  AwayTeam  Attendance    WHH   WHD   WHA\n",
       "4047  2013     10    5      28.0      39.0        17.0  10.00  1.29  6.25\n",
       "589   2002      4   20      15.0       9.0     22500.0   0.00  0.00  0.00\n",
       "403   2001     10   28       5.0      23.0     40000.0   1.67  3.40  4.33"
      ]
     },
     "execution_count": 68,
     "metadata": {},
     "output_type": "execute_result"
    }
   ],
   "source": [
    "df.iloc[:, 0:9].head(3)"
   ]
  },
  {
   "cell_type": "code",
   "execution_count": 66,
   "metadata": {},
   "outputs": [
    {
     "data": {
      "image/png": "[encoded data removed]",
      "text/plain": [
       "<Figure size 432x288 with 1 Axes>"
      ]
     },
     "metadata": {},
     "output_type": "display_data"
    }
   ],
   "source": [
    "from sklearn.feature_selection import mutual_info_classif \n",
    "from sklearn.feature_selection import SelectKBest\n",
    "\n",
    "# \n",
    "ms = SelectKBest(score_func=mutual_info_classif, k='all')\n",
    "ms.fit(X_train, y_train)\n",
    "plt.bar([i for i in range(len(ms.scores_))], ms.scores_, color='brown')\n",
    "plt.show() "
   ]
  },
  {
   "cell_type": "code",
   "execution_count": 215,
   "metadata": {},
   "outputs": [
    {
     "name": "stdout",
     "output_type": "stream",
     "text": [
      "(3384, 9)\n",
      "(3384,)\n"
     ]
    }
   ],
   "source": [
    "# Displaying the shape of the Training data \n",
    "print(X_train.shape)\n",
    "print(y_train.shape)"
   ]
  },
  {
   "cell_type": "code",
   "execution_count": 216,
   "metadata": {},
   "outputs": [
    {
     "name": "stdout",
     "output_type": "stream",
     "text": [
      "(847, 9)\n",
      "(847,)\n"
     ]
    }
   ],
   "source": [
    "# Displaying the shape of the test data \n",
    "print(X_test.shape)\n",
    "print(y_test.shape)"
   ]
  },
  {
   "cell_type": "code",
   "execution_count": 270,
   "metadata": {},
   "outputs": [
    {
     "data": {
      "text/plain": [
       "SVC(C=1.0, cache_size=200, class_weight=None, coef0=0.0,\n",
       "  decision_function_shape='ovr', degree=3, gamma='auto', kernel='rbf',\n",
       "  max_iter=-1, probability=False, random_state=None, shrinking=True,\n",
       "  tol=0.001, verbose=False)"
      ]
     },
     "execution_count": 270,
     "metadata": {},
     "output_type": "execute_result"
    }
   ],
   "source": [
    "# Building The Model using Linear Regression \n",
    "model = SVC()\n",
    "model.fit(X_train, y_train)"
   ]
  },
  {
   "cell_type": "code",
   "execution_count": 271,
   "metadata": {},
   "outputs": [
    {
     "data": {
      "text/plain": [
       "0.6765053128689492"
      ]
     },
     "execution_count": 271,
     "metadata": {},
     "output_type": "execute_result"
    }
   ],
   "source": [
    "# Training the model \n",
    "model.score(X_test, y_test)"
   ]
  },
  {
   "cell_type": "code",
   "execution_count": 272,
   "metadata": {},
   "outputs": [],
   "source": [
    "# # Fitting Polynomial Regression to the dataset\n",
    "# from sklearn.preprocessing import PolynomialFeatures\n",
    "# poly_reg = PolynomialFeatures(degree=4)\n",
    "# X_poly = poly_reg.fit_transform(X)\n",
    "\n",
    "# model = LogisticRegression()\n",
    "# model.fit(X_poly, y_train)"
   ]
  },
  {
   "cell_type": "code",
   "execution_count": 273,
   "metadata": {},
   "outputs": [
    {
     "name": "stdout",
     "output_type": "stream",
     "text": [
      "Accuracy: 67.65%\n"
     ]
    }
   ],
   "source": [
    "y_pred = model.predict(X_test)\n",
    "\n",
    "accuracy = accuracy_score(y_test, y_pred)\n",
    "print(\"Accuracy: %.2f%%\" % (accuracy * 100.0))"
   ]
  },
  {
   "cell_type": "code",
   "execution_count": 79,
   "metadata": {},
   "outputs": [
    {
     "data": {
      "text/plain": [
       "array([1])"
      ]
     },
     "execution_count": 79,
     "metadata": {},
     "output_type": "execute_result"
    }
   ],
   "source": [
    "# To predict, the inputs must be given \n",
    "# [S_year1, S_year2, year, month, day, HomeTeam, AwayTeam]\n",
    "new_value = [\n",
    "    13.0, \n",
    "    21.0, 1.66, 3.6, 4.5\n",
    "]\n",
    "\n",
    "# reshaping the new input data so that the model could predict it \n",
    "new_value = np.array(new_value).reshape(1, -1)\n",
    "\n",
    "# predicting the value for full time results \n",
    "model.predict(new_value)"
   ]
  },
  {
   "cell_type": "code",
   "execution_count": 80,
   "metadata": {},
   "outputs": [
    {
     "data": {
      "text/html": [
       "<div>\n",
       "<style scoped>\n",
       "    .dataframe tbody tr th:only-of-type {\n",
       "        vertical-align: middle;\n",
       "    }\n",
       "\n",
       "    .dataframe tbody tr th {\n",
       "        vertical-align: top;\n",
       "    }\n",
       "\n",
       "    .dataframe thead th {\n",
       "        text-align: right;\n",
       "    }\n",
       "</style>\n",
       "<table border=\"1\" class=\"dataframe\">\n",
       "  <thead>\n",
       "    <tr style=\"text-align: right;\">\n",
       "      <th></th>\n",
       "      <th>HomeTeam</th>\n",
       "      <th>AwayTeam</th>\n",
       "      <th>WHH</th>\n",
       "      <th>WHD</th>\n",
       "      <th>WHA</th>\n",
       "      <th>FTR</th>\n",
       "    </tr>\n",
       "  </thead>\n",
       "  <tbody>\n",
       "    <tr>\n",
       "      <th>0</th>\n",
       "      <td>2.0</td>\n",
       "      <td>23.0</td>\n",
       "      <td>1.44</td>\n",
       "      <td>3.6</td>\n",
       "      <td>6.5</td>\n",
       "      <td>1</td>\n",
       "    </tr>\n",
       "    <tr>\n",
       "      <th>1</th>\n",
       "      <td>1.0</td>\n",
       "      <td>27.0</td>\n",
       "      <td>1.44</td>\n",
       "      <td>3.6</td>\n",
       "      <td>6.5</td>\n",
       "      <td>1</td>\n",
       "    </tr>\n",
       "    <tr>\n",
       "      <th>2</th>\n",
       "      <td>12.0</td>\n",
       "      <td>18.0</td>\n",
       "      <td>2.40</td>\n",
       "      <td>3.2</td>\n",
       "      <td>2.5</td>\n",
       "      <td>1</td>\n",
       "    </tr>\n",
       "    <tr>\n",
       "      <th>3</th>\n",
       "      <td>5.0</td>\n",
       "      <td>21.0</td>\n",
       "      <td>1.66</td>\n",
       "      <td>3.3</td>\n",
       "      <td>4.5</td>\n",
       "      <td>3</td>\n",
       "    </tr>\n",
       "    <tr>\n",
       "      <th>4</th>\n",
       "      <td>13.0</td>\n",
       "      <td>20.0</td>\n",
       "      <td>1.50</td>\n",
       "      <td>3.6</td>\n",
       "      <td>5.5</td>\n",
       "      <td>2</td>\n",
       "    </tr>\n",
       "  </tbody>\n",
       "</table>\n",
       "</div>"
      ],
      "text/plain": [
       "   HomeTeam  AwayTeam   WHH  WHD  WHA  FTR\n",
       "0       2.0      23.0  1.44  3.6  6.5    1\n",
       "1       1.0      27.0  1.44  3.6  6.5    1\n",
       "2      12.0      18.0  2.40  3.2  2.5    1\n",
       "3       5.0      21.0  1.66  3.3  4.5    3\n",
       "4      13.0      20.0  1.50  3.6  5.5    2"
      ]
     },
     "execution_count": 80,
     "metadata": {},
     "output_type": "execute_result"
    }
   ],
   "source": [
    "df.head(5)"
   ]
  },
  {
   "cell_type": "code",
   "execution_count": 234,
   "metadata": {},
   "outputs": [],
   "source": [
    "# Building our deep neural network model \n",
    "from keras.models import Sequential \n",
    "from keras.layers import Dense, LSTM\n",
    "from keras.optimizers import SGD\n",
    "\n",
    "# building the model using keras\n",
    "# create and fit the LSTM network\n",
    "model = Sequential()\n",
    "model.add(Dense(50, input_dim=X_train.shape[1],\n",
    "                kernel_initializer='glorot_uniform', bias_initializer='zeros', \n",
    "                activation='tanh')\n",
    ")\n",
    "model.add(Dense(1, input_dim=50, kernel_initializer='glorot_uniform', \n",
    "                bias_initializer='zeros', activation='sigmoid'))\n",
    "\n",
    "sgd = SGD(\n",
    "    lr=0.0001, decay=1e-7, momentum=0.9\n",
    ")\n",
    "\n",
    "# model.add(Dense(30, input_dim=7, activation='relu'))\n",
    "# model.add(Dense(1, activation='sigmoid'))\n",
    "\n",
    "# Compiling the model \n",
    "model.compile(optimizer=sgd,\n",
    "              loss='mean_squared_error',\n",
    "              metrics=['accuracy'])"
   ]
  },
  {
   "cell_type": "code",
   "execution_count": 1,
   "metadata": {},
   "outputs": [],
   "source": [
    "# model.fit(X, y,epochs=50, batch_size=5, verbose=2)"
   ]
  },
  {
   "cell_type": "code",
   "execution_count": null,
   "metadata": {},
   "outputs": [],
   "source": []
  }
 ],
 "metadata": {
  "kernelspec": {
   "display_name": "Python 3",
   "language": "python",
   "name": "python3"
  },
  "language_info": {
   "codemirror_mode": {
    "name": "ipython",
    "version": 3
   },
   "file_extension": ".py",
   "mimetype": "text/x-python",
   "name": "python",
   "nbconvert_exporter": "python",
   "pygments_lexer": "ipython3",
   "version": "3.6.6"
  }
 },
 "nbformat": 4,
 "nbformat_minor": 2
}
